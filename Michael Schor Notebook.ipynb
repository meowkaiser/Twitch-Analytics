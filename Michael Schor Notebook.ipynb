{
 "cells": [
  {
   "cell_type": "markdown",
   "metadata": {},
   "source": [
    "# Twitch Growth and Advertising Partnership Analysis\n",
    "\n",
    "## Business Understanding\n",
    "\n",
    "## Stakeholder: Companies that wish to advertise on Twitch and develop long term relationships with livestreamers\n",
    "\n",
    "## Task: Identify livestreamers that have had a significant increase in growth and predict if they will continue to do so"
   ]
  },
  {
   "cell_type": "markdown",
   "metadata": {},
   "source": [
    "Load Packages"
   ]
  },
  {
   "cell_type": "code",
   "execution_count": 17,
   "metadata": {},
   "outputs": [],
   "source": [
    "import pandas as pd\n",
    "import numpy as np\n",
    "import matplotlib.pyplot as plt\n",
    "import matplotlib\n",
    "%matplotlib inline\n",
    "import seaborn as sns\n",
    "import warnings\n",
    "warnings.filterwarnings(\"ignore\")\n",
    "from sklearn.model_selection import train_test_split, RandomizedSearchCV, GridSearchCV\n",
    "from sklearn.dummy import DummyClassifier\n",
    "from sklearn.tree import DecisionTreeClassifier\n",
    "from sklearn.ensemble import RandomForestClassifier\n",
    "from sklearn.neighbors import KNeighborsClassifier\n",
    "from sklearn.preprocessing import OneHotEncoder, StandardScaler\n",
    "from imblearn.over_sampling import SMOTE\n",
    "from sklearn.metrics import precision_score, recall_score, accuracy_score, f1_score, plot_confusion_matrix, plot_roc_curve\n",
    "from sklearn.tree import plot_tree\n",
    "from sklearn.ensemble import AdaBoostClassifier, GradientBoostingClassifier"
   ]
  },
  {
   "cell_type": "markdown",
   "metadata": {},
   "source": [
    "## Loading Data and Inital Analysis"
   ]
  },
  {
   "cell_type": "markdown",
   "metadata": {},
   "source": [
    "https://www.kaggle.com/aayushmishra1512/twitchdata\n",
    "\n",
    "https://www.kaggle.com/girlazo/top-8800-twitch-streamers"
   ]
  },
  {
   "cell_type": "code",
   "execution_count": 3,
   "metadata": {},
   "outputs": [
    {
     "data": {
      "text/html": [
       "<div>\n",
       "<style scoped>\n",
       "    .dataframe tbody tr th:only-of-type {\n",
       "        vertical-align: middle;\n",
       "    }\n",
       "\n",
       "    .dataframe tbody tr th {\n",
       "        vertical-align: top;\n",
       "    }\n",
       "\n",
       "    .dataframe thead th {\n",
       "        text-align: right;\n",
       "    }\n",
       "</style>\n",
       "<table border=\"1\" class=\"dataframe\">\n",
       "  <thead>\n",
       "    <tr style=\"text-align: right;\">\n",
       "      <th></th>\n",
       "      <th>Channel</th>\n",
       "      <th>Watch time(Minutes)</th>\n",
       "      <th>Stream time(minutes)</th>\n",
       "      <th>Peak viewers</th>\n",
       "      <th>Average viewers</th>\n",
       "      <th>Followers</th>\n",
       "      <th>Followers gained</th>\n",
       "      <th>Views gained</th>\n",
       "      <th>Partnered</th>\n",
       "      <th>Mature</th>\n",
       "      <th>Language</th>\n",
       "    </tr>\n",
       "  </thead>\n",
       "  <tbody>\n",
       "    <tr>\n",
       "      <th>0</th>\n",
       "      <td>xQcOW</td>\n",
       "      <td>6196161750</td>\n",
       "      <td>215250</td>\n",
       "      <td>222720</td>\n",
       "      <td>27716</td>\n",
       "      <td>3246298</td>\n",
       "      <td>1734810</td>\n",
       "      <td>93036735</td>\n",
       "      <td>True</td>\n",
       "      <td>False</td>\n",
       "      <td>English</td>\n",
       "    </tr>\n",
       "    <tr>\n",
       "      <th>1</th>\n",
       "      <td>summit1g</td>\n",
       "      <td>6091677300</td>\n",
       "      <td>211845</td>\n",
       "      <td>310998</td>\n",
       "      <td>25610</td>\n",
       "      <td>5310163</td>\n",
       "      <td>1370184</td>\n",
       "      <td>89705964</td>\n",
       "      <td>True</td>\n",
       "      <td>False</td>\n",
       "      <td>English</td>\n",
       "    </tr>\n",
       "    <tr>\n",
       "      <th>2</th>\n",
       "      <td>Gaules</td>\n",
       "      <td>5644590915</td>\n",
       "      <td>515280</td>\n",
       "      <td>387315</td>\n",
       "      <td>10976</td>\n",
       "      <td>1767635</td>\n",
       "      <td>1023779</td>\n",
       "      <td>102611607</td>\n",
       "      <td>True</td>\n",
       "      <td>True</td>\n",
       "      <td>Portuguese</td>\n",
       "    </tr>\n",
       "    <tr>\n",
       "      <th>3</th>\n",
       "      <td>ESL_CSGO</td>\n",
       "      <td>3970318140</td>\n",
       "      <td>517740</td>\n",
       "      <td>300575</td>\n",
       "      <td>7714</td>\n",
       "      <td>3944850</td>\n",
       "      <td>703986</td>\n",
       "      <td>106546942</td>\n",
       "      <td>True</td>\n",
       "      <td>False</td>\n",
       "      <td>English</td>\n",
       "    </tr>\n",
       "    <tr>\n",
       "      <th>4</th>\n",
       "      <td>Tfue</td>\n",
       "      <td>3671000070</td>\n",
       "      <td>123660</td>\n",
       "      <td>285644</td>\n",
       "      <td>29602</td>\n",
       "      <td>8938903</td>\n",
       "      <td>2068424</td>\n",
       "      <td>78998587</td>\n",
       "      <td>True</td>\n",
       "      <td>False</td>\n",
       "      <td>English</td>\n",
       "    </tr>\n",
       "  </tbody>\n",
       "</table>\n",
       "</div>"
      ],
      "text/plain": [
       "    Channel  Watch time(Minutes)  Stream time(minutes)  Peak viewers  \\\n",
       "0     xQcOW           6196161750                215250        222720   \n",
       "1  summit1g           6091677300                211845        310998   \n",
       "2    Gaules           5644590915                515280        387315   \n",
       "3  ESL_CSGO           3970318140                517740        300575   \n",
       "4      Tfue           3671000070                123660        285644   \n",
       "\n",
       "   Average viewers  Followers  Followers gained  Views gained  Partnered  \\\n",
       "0            27716    3246298           1734810      93036735       True   \n",
       "1            25610    5310163           1370184      89705964       True   \n",
       "2            10976    1767635           1023779     102611607       True   \n",
       "3             7714    3944850            703986     106546942       True   \n",
       "4            29602    8938903           2068424      78998587       True   \n",
       "\n",
       "   Mature    Language  \n",
       "0   False     English  \n",
       "1   False     English  \n",
       "2    True  Portuguese  \n",
       "3   False     English  \n",
       "4   False     English  "
      ]
     },
     "execution_count": 3,
     "metadata": {},
     "output_type": "execute_result"
    }
   ],
   "source": [
    "df = pd.read_csv('data/twitchdata-update.csv')\n",
    "df_extended = pd.read_csv('data/TwitchDataSet.csv')\n",
    "df.head()"
   ]
  },
  {
   "cell_type": "code",
   "execution_count": 4,
   "metadata": {},
   "outputs": [
    {
     "name": "stdout",
     "output_type": "stream",
     "text": [
      "<class 'pandas.core.frame.DataFrame'>\n",
      "RangeIndex: 1000 entries, 0 to 999\n",
      "Data columns (total 11 columns):\n",
      " #   Column                Non-Null Count  Dtype \n",
      "---  ------                --------------  ----- \n",
      " 0   Channel               1000 non-null   object\n",
      " 1   Watch time(Minutes)   1000 non-null   int64 \n",
      " 2   Stream time(minutes)  1000 non-null   int64 \n",
      " 3   Peak viewers          1000 non-null   int64 \n",
      " 4   Average viewers       1000 non-null   int64 \n",
      " 5   Followers             1000 non-null   int64 \n",
      " 6   Followers gained      1000 non-null   int64 \n",
      " 7   Views gained          1000 non-null   int64 \n",
      " 8   Partnered             1000 non-null   bool  \n",
      " 9   Mature                1000 non-null   bool  \n",
      " 10  Language              1000 non-null   object\n",
      "dtypes: bool(2), int64(7), object(2)\n",
      "memory usage: 72.4+ KB\n"
     ]
    }
   ],
   "source": [
    "df.info()"
   ]
  },
  {
   "cell_type": "code",
   "execution_count": 5,
   "metadata": {},
   "outputs": [
    {
     "data": {
      "text/plain": [
       "Channel                 0\n",
       "Watch time(Minutes)     0\n",
       "Stream time(minutes)    0\n",
       "Peak viewers            0\n",
       "Average viewers         0\n",
       "Followers               0\n",
       "Followers gained        0\n",
       "Views gained            0\n",
       "Partnered               0\n",
       "Mature                  0\n",
       "Language                0\n",
       "dtype: int64"
      ]
     },
     "execution_count": 5,
     "metadata": {},
     "output_type": "execute_result"
    }
   ],
   "source": [
    "df.isnull().sum()"
   ]
  },
  {
   "cell_type": "code",
   "execution_count": 6,
   "metadata": {},
   "outputs": [
    {
     "data": {
      "text/plain": [
       "Channel                 object\n",
       "Watch time(Minutes)      int64\n",
       "Stream time(minutes)     int64\n",
       "Peak viewers             int64\n",
       "Average viewers          int64\n",
       "Followers                int64\n",
       "Followers gained         int64\n",
       "Views gained             int64\n",
       "Partnered                 bool\n",
       "Mature                    bool\n",
       "Language                object\n",
       "dtype: object"
      ]
     },
     "execution_count": 6,
     "metadata": {},
     "output_type": "execute_result"
    }
   ],
   "source": [
    "df.dtypes"
   ]
  },
  {
   "cell_type": "code",
   "execution_count": 7,
   "metadata": {
    "scrolled": true
   },
   "outputs": [
    {
     "data": {
      "text/html": [
       "<div>\n",
       "<style scoped>\n",
       "    .dataframe tbody tr th:only-of-type {\n",
       "        vertical-align: middle;\n",
       "    }\n",
       "\n",
       "    .dataframe tbody tr th {\n",
       "        vertical-align: top;\n",
       "    }\n",
       "\n",
       "    .dataframe thead th {\n",
       "        text-align: right;\n",
       "    }\n",
       "</style>\n",
       "<table border=\"1\" class=\"dataframe\">\n",
       "  <thead>\n",
       "    <tr style=\"text-align: right;\">\n",
       "      <th></th>\n",
       "      <th>Watch time(Minutes)</th>\n",
       "      <th>Stream time(minutes)</th>\n",
       "      <th>Peak viewers</th>\n",
       "      <th>Average viewers</th>\n",
       "      <th>Followers</th>\n",
       "      <th>Followers gained</th>\n",
       "      <th>Views gained</th>\n",
       "    </tr>\n",
       "  </thead>\n",
       "  <tbody>\n",
       "    <tr>\n",
       "      <th>count</th>\n",
       "      <td>1.000000e+03</td>\n",
       "      <td>1000.000000</td>\n",
       "      <td>1000.000000</td>\n",
       "      <td>1000.000000</td>\n",
       "      <td>1.000000e+03</td>\n",
       "      <td>1.000000e+03</td>\n",
       "      <td>1.000000e+03</td>\n",
       "    </tr>\n",
       "    <tr>\n",
       "      <th>mean</th>\n",
       "      <td>4.184279e+08</td>\n",
       "      <td>120515.160000</td>\n",
       "      <td>37065.051000</td>\n",
       "      <td>4781.040000</td>\n",
       "      <td>5.700541e+05</td>\n",
       "      <td>2.055185e+05</td>\n",
       "      <td>1.166817e+07</td>\n",
       "    </tr>\n",
       "    <tr>\n",
       "      <th>std</th>\n",
       "      <td>5.496355e+08</td>\n",
       "      <td>85376.201364</td>\n",
       "      <td>60314.307686</td>\n",
       "      <td>8453.684965</td>\n",
       "      <td>8.044134e+05</td>\n",
       "      <td>3.399137e+05</td>\n",
       "      <td>2.490572e+07</td>\n",
       "    </tr>\n",
       "    <tr>\n",
       "      <th>min</th>\n",
       "      <td>1.221928e+08</td>\n",
       "      <td>3465.000000</td>\n",
       "      <td>496.000000</td>\n",
       "      <td>235.000000</td>\n",
       "      <td>3.660000e+03</td>\n",
       "      <td>-1.577200e+04</td>\n",
       "      <td>1.757880e+05</td>\n",
       "    </tr>\n",
       "    <tr>\n",
       "      <th>25%</th>\n",
       "      <td>1.631899e+08</td>\n",
       "      <td>73758.750000</td>\n",
       "      <td>9113.750000</td>\n",
       "      <td>1457.750000</td>\n",
       "      <td>1.705462e+05</td>\n",
       "      <td>4.375825e+04</td>\n",
       "      <td>3.880602e+06</td>\n",
       "    </tr>\n",
       "    <tr>\n",
       "      <th>50%</th>\n",
       "      <td>2.349908e+08</td>\n",
       "      <td>108240.000000</td>\n",
       "      <td>16676.000000</td>\n",
       "      <td>2425.000000</td>\n",
       "      <td>3.180630e+05</td>\n",
       "      <td>9.835200e+04</td>\n",
       "      <td>6.456324e+06</td>\n",
       "    </tr>\n",
       "    <tr>\n",
       "      <th>75%</th>\n",
       "      <td>4.337399e+08</td>\n",
       "      <td>141843.750000</td>\n",
       "      <td>37569.750000</td>\n",
       "      <td>4786.250000</td>\n",
       "      <td>6.243322e+05</td>\n",
       "      <td>2.361308e+05</td>\n",
       "      <td>1.219676e+07</td>\n",
       "    </tr>\n",
       "    <tr>\n",
       "      <th>max</th>\n",
       "      <td>6.196162e+09</td>\n",
       "      <td>521445.000000</td>\n",
       "      <td>639375.000000</td>\n",
       "      <td>147643.000000</td>\n",
       "      <td>8.938903e+06</td>\n",
       "      <td>3.966525e+06</td>\n",
       "      <td>6.701375e+08</td>\n",
       "    </tr>\n",
       "  </tbody>\n",
       "</table>\n",
       "</div>"
      ],
      "text/plain": [
       "       Watch time(Minutes)  Stream time(minutes)   Peak viewers  \\\n",
       "count         1.000000e+03           1000.000000    1000.000000   \n",
       "mean          4.184279e+08         120515.160000   37065.051000   \n",
       "std           5.496355e+08          85376.201364   60314.307686   \n",
       "min           1.221928e+08           3465.000000     496.000000   \n",
       "25%           1.631899e+08          73758.750000    9113.750000   \n",
       "50%           2.349908e+08         108240.000000   16676.000000   \n",
       "75%           4.337399e+08         141843.750000   37569.750000   \n",
       "max           6.196162e+09         521445.000000  639375.000000   \n",
       "\n",
       "       Average viewers     Followers  Followers gained  Views gained  \n",
       "count      1000.000000  1.000000e+03      1.000000e+03  1.000000e+03  \n",
       "mean       4781.040000  5.700541e+05      2.055185e+05  1.166817e+07  \n",
       "std        8453.684965  8.044134e+05      3.399137e+05  2.490572e+07  \n",
       "min         235.000000  3.660000e+03     -1.577200e+04  1.757880e+05  \n",
       "25%        1457.750000  1.705462e+05      4.375825e+04  3.880602e+06  \n",
       "50%        2425.000000  3.180630e+05      9.835200e+04  6.456324e+06  \n",
       "75%        4786.250000  6.243322e+05      2.361308e+05  1.219676e+07  \n",
       "max      147643.000000  8.938903e+06      3.966525e+06  6.701375e+08  "
      ]
     },
     "execution_count": 7,
     "metadata": {},
     "output_type": "execute_result"
    }
   ],
   "source": [
    "df.describe()"
   ]
  },
  {
   "cell_type": "markdown",
   "metadata": {},
   "source": [
    "Exploring how many streamers mark their content as Mature"
   ]
  },
  {
   "cell_type": "code",
   "execution_count": 8,
   "metadata": {},
   "outputs": [
    {
     "data": {
      "image/png": "[encoded data removed]",
      "text/plain": [
       "<Figure size 864x432 with 1 Axes>"
      ]
     },
     "metadata": {
      "needs_background": "light"
     },
     "output_type": "display_data"
    }
   ],
   "source": [
    "plt.figure(figsize=(12, 6))\n",
    "plot = sns.countplot(x=\"Mature\", data=df,order=df['Mature'].value_counts().index)"
   ]
  },
  {
   "cell_type": "markdown",
   "metadata": {},
   "source": [
    "Exploring how many views were gained for each channel, plot is organized by largest streamer on the left to smallest streamer on the right"
   ]
  },
  {
   "cell_type": "code",
   "execution_count": 18,
   "metadata": {},
   "outputs": [
    {
     "data": {
      "image/png": "[encoded data removed]",
      "text/plain": [
       "<Figure size 1800x432 with 1 Axes>"
      ]
     },
     "metadata": {
      "needs_background": "light"
     },
     "output_type": "display_data"
    }
   ],
   "source": [
    "plt.figure(figsize=(25,6))\n",
    "sns.barplot(x=df[df.Partnered == True]['Channel'], y=df[df.Partnered == True]['Views gained'],order=df[df.Partnered == True]['Channel'])\n",
    "plt.show()"
   ]
  },
  {
   "cell_type": "markdown",
   "metadata": {},
   "source": [
    "Exploring what languages are spoken by the top streamers"
   ]
  },
  {
   "cell_type": "code",
   "execution_count": 24,
   "metadata": {},
   "outputs": [
    {
     "data": {
      "image/png": "[encoded data removed]",
      "text/plain": [
       "<Figure size 1800x432 with 1 Axes>"
      ]
     },
     "metadata": {
      "needs_background": "light"
     },
     "output_type": "display_data"
    }
   ],
   "source": [
    "plt.figure(figsize=(25, 6))\n",
    "plot = sns.countplot(x=\"Language\", data=df,order=df['Language'].value_counts().index, palette=\"Set2\")"
   ]
  },
  {
   "cell_type": "markdown",
   "metadata": {},
   "source": [
    "Exploring views gained by streamers that aren't partnered"
   ]
  },
  {
   "cell_type": "code",
   "execution_count": 20,
   "metadata": {},
   "outputs": [
    {
     "data": {
      "image/png": "[encoded data removed]",
      "text/plain": [
       "<Figure size 1800x432 with 1 Axes>"
      ]
     },
     "metadata": {
      "needs_background": "light"
     },
     "output_type": "display_data"
    }
   ],
   "source": [
    "plt.figure(figsize=(25,6))\n",
    "sns.barplot(x=df[df.Partnered == False]['Channel'] , y=df[df.Partnered == False]['Views gained'],order=df[df.Partnered == False]['Channel'])\n",
    "plt.show()"
   ]
  },
  {
   "cell_type": "markdown",
   "metadata": {},
   "source": [
    "Exploring views gained by channels that are not marked as mature"
   ]
  },
  {
   "cell_type": "code",
   "execution_count": 21,
   "metadata": {},
   "outputs": [
    {
     "data": {
      "image/png": "[encoded data removed]",
      "text/plain": [
       "<Figure size 1800x432 with 1 Axes>"
      ]
     },
     "metadata": {
      "needs_background": "light"
     },
     "output_type": "display_data"
    }
   ],
   "source": [
    "plt.figure(figsize=(25,6))\n",
    "sns.barplot(x=df[df.Mature == False]['Channel'] , y=df[df.Mature == False]['Views gained'],order=df[df.Mature == False]['Channel'])\n",
    "plt.show()"
   ]
  },
  {
   "cell_type": "markdown",
   "metadata": {},
   "source": [
    "Exploring views gained by channels that are marked as mature"
   ]
  },
  {
   "cell_type": "code",
   "execution_count": 22,
   "metadata": {},
   "outputs": [
    {
     "data": {
      "image/png": "[encoded data removed]",
      "text/plain": [
       "<Figure size 1800x432 with 1 Axes>"
      ]
     },
     "metadata": {
      "needs_background": "light"
     },
     "output_type": "display_data"
    }
   ],
   "source": [
    "plt.figure(figsize=(25,6))\n",
    "sns.barplot(x=df[df.Mature == True]['Channel'], y=df[df.Mature == True]['Views gained'],order=df[df.Mature == True]['Channel'])\n",
    "plt.show()"
   ]
  },
  {
   "cell_type": "markdown",
   "metadata": {},
   "source": [
    "Taking a look at the older database"
   ]
  },
  {
   "cell_type": "code",
   "execution_count": 27,
   "metadata": {},
   "outputs": [
    {
     "data": {
      "text/html": [
       "<div>\n",
       "<style scoped>\n",
       "    .dataframe tbody tr th:only-of-type {\n",
       "        vertical-align: middle;\n",
       "    }\n",
       "\n",
       "    .dataframe tbody tr th {\n",
       "        vertical-align: top;\n",
       "    }\n",
       "\n",
       "    .dataframe thead th {\n",
       "        text-align: right;\n",
       "    }\n",
       "</style>\n",
       "<table border=\"1\" class=\"dataframe\">\n",
       "  <thead>\n",
       "    <tr style=\"text-align: right;\">\n",
       "      <th></th>\n",
       "      <th>profile picture</th>\n",
       "      <th>top count</th>\n",
       "      <th>screen name</th>\n",
       "      <th>watch time</th>\n",
       "      <th>stream time</th>\n",
       "      <th>peak viewers</th>\n",
       "      <th>average viewers</th>\n",
       "      <th>followers</th>\n",
       "      <th>followers gained</th>\n",
       "      <th>views gained</th>\n",
       "      <th>partnered</th>\n",
       "      <th>mature</th>\n",
       "      <th>language</th>\n",
       "      <th>completa name</th>\n",
       "      <th>first category</th>\n",
       "      <th>second category</th>\n",
       "      <th>third category</th>\n",
       "    </tr>\n",
       "  </thead>\n",
       "  <tbody>\n",
       "    <tr>\n",
       "      <th>0</th>\n",
       "      <td>https://static-cdn.jtvnw.net/jtv_user_pictures...</td>\n",
       "      <td>1</td>\n",
       "      <td>xQcOW</td>\n",
       "      <td>7333609065</td>\n",
       "      <td>215670</td>\n",
       "      <td>222720</td>\n",
       "      <td>32913</td>\n",
       "      <td>3691010</td>\n",
       "      <td>2051895</td>\n",
       "      <td>109735389</td>\n",
       "      <td>True</td>\n",
       "      <td>False</td>\n",
       "      <td>English</td>\n",
       "      <td>xQcOW</td>\n",
       "      <td>Just Chatting</td>\n",
       "      <td>Among Us</td>\n",
       "      <td>Overwatch</td>\n",
       "    </tr>\n",
       "    <tr>\n",
       "      <th>1</th>\n",
       "      <td>https://static-cdn.jtvnw.net/jtv_user_pictures...</td>\n",
       "      <td>2</td>\n",
       "      <td>Gaules</td>\n",
       "      <td>6314532585</td>\n",
       "      <td>515595</td>\n",
       "      <td>387315</td>\n",
       "      <td>12254</td>\n",
       "      <td>1966465</td>\n",
       "      <td>1141123</td>\n",
       "      <td>112807468</td>\n",
       "      <td>True</td>\n",
       "      <td>True</td>\n",
       "      <td>Portuguese</td>\n",
       "      <td>Gaules</td>\n",
       "      <td>Counter-Strike: Global Offensive</td>\n",
       "      <td>Among Us</td>\n",
       "      <td>PLAYERUNKNOWN</td>\n",
       "    </tr>\n",
       "    <tr>\n",
       "      <th>2</th>\n",
       "      <td>https://static-cdn.jtvnw.net/jtv_user_pictures...</td>\n",
       "      <td>3</td>\n",
       "      <td>summit1g</td>\n",
       "      <td>6235007490</td>\n",
       "      <td>216000</td>\n",
       "      <td>310998</td>\n",
       "      <td>25931</td>\n",
       "      <td>5374710</td>\n",
       "      <td>1402547</td>\n",
       "      <td>91501875</td>\n",
       "      <td>True</td>\n",
       "      <td>False</td>\n",
       "      <td>English</td>\n",
       "      <td>summit1g</td>\n",
       "      <td>Escape From Tarkov</td>\n",
       "      <td>Sea of Thieves</td>\n",
       "      <td>Grand Theft Auto V</td>\n",
       "    </tr>\n",
       "    <tr>\n",
       "      <th>3</th>\n",
       "      <td>https://static-cdn.jtvnw.net/jtv_user_pictures...</td>\n",
       "      <td>4</td>\n",
       "      <td>ESL_CSGO</td>\n",
       "      <td>4764929775</td>\n",
       "      <td>517965</td>\n",
       "      <td>300575</td>\n",
       "      <td>9249</td>\n",
       "      <td>4195657</td>\n",
       "      <td>870484</td>\n",
       "      <td>126008641</td>\n",
       "      <td>True</td>\n",
       "      <td>False</td>\n",
       "      <td>English</td>\n",
       "      <td>ESL_CSGO</td>\n",
       "      <td>Counter-Strike: Global Offensive</td>\n",
       "      <td>NaN</td>\n",
       "      <td>NaN</td>\n",
       "    </tr>\n",
       "    <tr>\n",
       "      <th>4</th>\n",
       "      <td>https://static-cdn.jtvnw.net/jtv_user_pictures...</td>\n",
       "      <td>5</td>\n",
       "      <td>NICKMERCS</td>\n",
       "      <td>3853252845</td>\n",
       "      <td>131880</td>\n",
       "      <td>163241</td>\n",
       "      <td>29183</td>\n",
       "      <td>4415637</td>\n",
       "      <td>1337535</td>\n",
       "      <td>49164651</td>\n",
       "      <td>True</td>\n",
       "      <td>False</td>\n",
       "      <td>English</td>\n",
       "      <td>NICKMERCS</td>\n",
       "      <td>Call Of Duty: Modern Warfare</td>\n",
       "      <td>Fortnite</td>\n",
       "      <td>Halo: The Master Chief Collection</td>\n",
       "    </tr>\n",
       "  </tbody>\n",
       "</table>\n",
       "</div>"
      ],
      "text/plain": [
       "                                     profile picture  top count screen name  \\\n",
       "0  https://static-cdn.jtvnw.net/jtv_user_pictures...          1       xQcOW   \n",
       "1  https://static-cdn.jtvnw.net/jtv_user_pictures...          2      Gaules   \n",
       "2  https://static-cdn.jtvnw.net/jtv_user_pictures...          3    summit1g   \n",
       "3  https://static-cdn.jtvnw.net/jtv_user_pictures...          4    ESL_CSGO   \n",
       "4  https://static-cdn.jtvnw.net/jtv_user_pictures...          5   NICKMERCS   \n",
       "\n",
       "   watch time  stream time  peak viewers  average viewers  followers  \\\n",
       "0  7333609065       215670        222720            32913    3691010   \n",
       "1  6314532585       515595        387315            12254    1966465   \n",
       "2  6235007490       216000        310998            25931    5374710   \n",
       "3  4764929775       517965        300575             9249    4195657   \n",
       "4  3853252845       131880        163241            29183    4415637   \n",
       "\n",
       "   followers gained  views gained  partnered  mature    language  \\\n",
       "0           2051895     109735389       True   False     English   \n",
       "1           1141123     112807468       True    True  Portuguese   \n",
       "2           1402547      91501875       True   False     English   \n",
       "3            870484     126008641       True   False     English   \n",
       "4           1337535      49164651       True   False     English   \n",
       "\n",
       "  completa name                    first category second category  \\\n",
       "0         xQcOW                     Just Chatting        Among Us   \n",
       "1        Gaules  Counter-Strike: Global Offensive        Among Us   \n",
       "2      summit1g                Escape From Tarkov  Sea of Thieves   \n",
       "3      ESL_CSGO  Counter-Strike: Global Offensive             NaN   \n",
       "4     NICKMERCS      Call Of Duty: Modern Warfare        Fortnite   \n",
       "\n",
       "                      third category  \n",
       "0                          Overwatch  \n",
       "1                      PLAYERUNKNOWN  \n",
       "2                 Grand Theft Auto V  \n",
       "3                                NaN  \n",
       "4  Halo: The Master Chief Collection  "
      ]
     },
     "execution_count": 27,
     "metadata": {},
     "output_type": "execute_result"
    }
   ],
   "source": [
    "df_extended.head()"
   ]
  },
  {
   "cell_type": "code",
   "execution_count": 28,
   "metadata": {},
   "outputs": [
    {
     "name": "stdout",
     "output_type": "stream",
     "text": [
      "<class 'pandas.core.frame.DataFrame'>\n",
      "RangeIndex: 8800 entries, 0 to 8799\n",
      "Data columns (total 17 columns):\n",
      " #   Column            Non-Null Count  Dtype \n",
      "---  ------            --------------  ----- \n",
      " 0   profile picture   8800 non-null   object\n",
      " 1   top count         8800 non-null   int64 \n",
      " 2   screen name       8800 non-null   object\n",
      " 3   watch time        8800 non-null   int64 \n",
      " 4   stream time       8800 non-null   int64 \n",
      " 5   peak viewers      8800 non-null   int64 \n",
      " 6   average viewers   8800 non-null   int64 \n",
      " 7   followers         8800 non-null   int64 \n",
      " 8   followers gained  8800 non-null   int64 \n",
      " 9   views gained      8800 non-null   int64 \n",
      " 10  partnered         8800 non-null   bool  \n",
      " 11  mature            8800 non-null   bool  \n",
      " 12  language          8799 non-null   object\n",
      " 13  completa name     8800 non-null   object\n",
      " 14  first category    8795 non-null   object\n",
      " 15  second category   8390 non-null   object\n",
      " 16  third category    8009 non-null   object\n",
      "dtypes: bool(2), int64(8), object(7)\n",
      "memory usage: 1.0+ MB\n"
     ]
    }
   ],
   "source": [
    "df_extended.info()"
   ]
  },
  {
   "cell_type": "code",
   "execution_count": 29,
   "metadata": {},
   "outputs": [
    {
     "data": {
      "text/plain": [
       "profile picture       0\n",
       "top count             0\n",
       "screen name           0\n",
       "watch time            0\n",
       "stream time           0\n",
       "peak viewers          0\n",
       "average viewers       0\n",
       "followers             0\n",
       "followers gained      0\n",
       "views gained          0\n",
       "partnered             0\n",
       "mature                0\n",
       "language              1\n",
       "completa name         0\n",
       "first category        5\n",
       "second category     410\n",
       "third category      791\n",
       "dtype: int64"
      ]
     },
     "execution_count": 29,
     "metadata": {},
     "output_type": "execute_result"
    }
   ],
   "source": [
    "df_extended.isnull().sum()"
   ]
  },
  {
   "cell_type": "code",
   "execution_count": 30,
   "metadata": {},
   "outputs": [
    {
     "data": {
      "text/plain": [
       "profile picture     object\n",
       "top count            int64\n",
       "screen name         object\n",
       "watch time           int64\n",
       "stream time          int64\n",
       "peak viewers         int64\n",
       "average viewers      int64\n",
       "followers            int64\n",
       "followers gained     int64\n",
       "views gained         int64\n",
       "partnered             bool\n",
       "mature                bool\n",
       "language            object\n",
       "completa name       object\n",
       "first category      object\n",
       "second category     object\n",
       "third category      object\n",
       "dtype: object"
      ]
     },
     "execution_count": 30,
     "metadata": {},
     "output_type": "execute_result"
    }
   ],
   "source": [
    "df_extended.dtypes"
   ]
  },
  {
   "cell_type": "markdown",
   "metadata": {},
   "source": [
    "## Data Merging\n",
    "\n",
    "Merging the data sets together and drop duplicates"
   ]
  },
  {
   "cell_type": "code",
   "execution_count": 31,
   "metadata": {},
   "outputs": [],
   "source": [
    "##renaming columns so it matches the new database\n",
    "\n",
    "df_extended.rename(columns={'screen name':'Channel', 'watch time': 'Watch time(Minutes)', 'stream time': 'Stream time(minutes)', 'peak viewers': 'Peak viewers', 'average viewers': 'Average viewers', 'followers': 'Followers', 'followers gained': 'Followers gained', 'views gained': 'Views gained', 'partnered': 'Partnered', 'mature': 'Mature', 'language': 'Language'}, inplace = True)"
   ]
  },
  {
   "cell_type": "code",
   "execution_count": 32,
   "metadata": {},
   "outputs": [
    {
     "data": {
      "text/html": [
       "<div>\n",
       "<style scoped>\n",
       "    .dataframe tbody tr th:only-of-type {\n",
       "        vertical-align: middle;\n",
       "    }\n",
       "\n",
       "    .dataframe tbody tr th {\n",
       "        vertical-align: top;\n",
       "    }\n",
       "\n",
       "    .dataframe thead th {\n",
       "        text-align: right;\n",
       "    }\n",
       "</style>\n",
       "<table border=\"1\" class=\"dataframe\">\n",
       "  <thead>\n",
       "    <tr style=\"text-align: right;\">\n",
       "      <th></th>\n",
       "      <th>profile picture</th>\n",
       "      <th>top count</th>\n",
       "      <th>Channel</th>\n",
       "      <th>Watch time(Minutes)</th>\n",
       "      <th>Stream time(minutes)</th>\n",
       "      <th>Peak viewers</th>\n",
       "      <th>Average viewers</th>\n",
       "      <th>Followers</th>\n",
       "      <th>Followers gained</th>\n",
       "      <th>Views gained</th>\n",
       "      <th>Partnered</th>\n",
       "      <th>Mature</th>\n",
       "      <th>Language</th>\n",
       "      <th>completa name</th>\n",
       "      <th>first category</th>\n",
       "      <th>second category</th>\n",
       "      <th>third category</th>\n",
       "    </tr>\n",
       "  </thead>\n",
       "  <tbody>\n",
       "    <tr>\n",
       "      <th>0</th>\n",
       "      <td>https://static-cdn.jtvnw.net/jtv_user_pictures...</td>\n",
       "      <td>1</td>\n",
       "      <td>xQcOW</td>\n",
       "      <td>7333609065</td>\n",
       "      <td>215670</td>\n",
       "      <td>222720</td>\n",
       "      <td>32913</td>\n",
       "      <td>3691010</td>\n",
       "      <td>2051895</td>\n",
       "      <td>109735389</td>\n",
       "      <td>True</td>\n",
       "      <td>False</td>\n",
       "      <td>English</td>\n",
       "      <td>xQcOW</td>\n",
       "      <td>Just Chatting</td>\n",
       "      <td>Among Us</td>\n",
       "      <td>Overwatch</td>\n",
       "    </tr>\n",
       "    <tr>\n",
       "      <th>1</th>\n",
       "      <td>https://static-cdn.jtvnw.net/jtv_user_pictures...</td>\n",
       "      <td>2</td>\n",
       "      <td>Gaules</td>\n",
       "      <td>6314532585</td>\n",
       "      <td>515595</td>\n",
       "      <td>387315</td>\n",
       "      <td>12254</td>\n",
       "      <td>1966465</td>\n",
       "      <td>1141123</td>\n",
       "      <td>112807468</td>\n",
       "      <td>True</td>\n",
       "      <td>True</td>\n",
       "      <td>Portuguese</td>\n",
       "      <td>Gaules</td>\n",
       "      <td>Counter-Strike: Global Offensive</td>\n",
       "      <td>Among Us</td>\n",
       "      <td>PLAYERUNKNOWN</td>\n",
       "    </tr>\n",
       "    <tr>\n",
       "      <th>2</th>\n",
       "      <td>https://static-cdn.jtvnw.net/jtv_user_pictures...</td>\n",
       "      <td>3</td>\n",
       "      <td>summit1g</td>\n",
       "      <td>6235007490</td>\n",
       "      <td>216000</td>\n",
       "      <td>310998</td>\n",
       "      <td>25931</td>\n",
       "      <td>5374710</td>\n",
       "      <td>1402547</td>\n",
       "      <td>91501875</td>\n",
       "      <td>True</td>\n",
       "      <td>False</td>\n",
       "      <td>English</td>\n",
       "      <td>summit1g</td>\n",
       "      <td>Escape From Tarkov</td>\n",
       "      <td>Sea of Thieves</td>\n",
       "      <td>Grand Theft Auto V</td>\n",
       "    </tr>\n",
       "    <tr>\n",
       "      <th>3</th>\n",
       "      <td>https://static-cdn.jtvnw.net/jtv_user_pictures...</td>\n",
       "      <td>4</td>\n",
       "      <td>ESL_CSGO</td>\n",
       "      <td>4764929775</td>\n",
       "      <td>517965</td>\n",
       "      <td>300575</td>\n",
       "      <td>9249</td>\n",
       "      <td>4195657</td>\n",
       "      <td>870484</td>\n",
       "      <td>126008641</td>\n",
       "      <td>True</td>\n",
       "      <td>False</td>\n",
       "      <td>English</td>\n",
       "      <td>ESL_CSGO</td>\n",
       "      <td>Counter-Strike: Global Offensive</td>\n",
       "      <td>NaN</td>\n",
       "      <td>NaN</td>\n",
       "    </tr>\n",
       "    <tr>\n",
       "      <th>4</th>\n",
       "      <td>https://static-cdn.jtvnw.net/jtv_user_pictures...</td>\n",
       "      <td>5</td>\n",
       "      <td>NICKMERCS</td>\n",
       "      <td>3853252845</td>\n",
       "      <td>131880</td>\n",
       "      <td>163241</td>\n",
       "      <td>29183</td>\n",
       "      <td>4415637</td>\n",
       "      <td>1337535</td>\n",
       "      <td>49164651</td>\n",
       "      <td>True</td>\n",
       "      <td>False</td>\n",
       "      <td>English</td>\n",
       "      <td>NICKMERCS</td>\n",
       "      <td>Call Of Duty: Modern Warfare</td>\n",
       "      <td>Fortnite</td>\n",
       "      <td>Halo: The Master Chief Collection</td>\n",
       "    </tr>\n",
       "  </tbody>\n",
       "</table>\n",
       "</div>"
      ],
      "text/plain": [
       "                                     profile picture  top count    Channel  \\\n",
       "0  https://static-cdn.jtvnw.net/jtv_user_pictures...          1      xQcOW   \n",
       "1  https://static-cdn.jtvnw.net/jtv_user_pictures...          2     Gaules   \n",
       "2  https://static-cdn.jtvnw.net/jtv_user_pictures...          3   summit1g   \n",
       "3  https://static-cdn.jtvnw.net/jtv_user_pictures...          4   ESL_CSGO   \n",
       "4  https://static-cdn.jtvnw.net/jtv_user_pictures...          5  NICKMERCS   \n",
       "\n",
       "   Watch time(Minutes)  Stream time(minutes)  Peak viewers  Average viewers  \\\n",
       "0           7333609065                215670        222720            32913   \n",
       "1           6314532585                515595        387315            12254   \n",
       "2           6235007490                216000        310998            25931   \n",
       "3           4764929775                517965        300575             9249   \n",
       "4           3853252845                131880        163241            29183   \n",
       "\n",
       "   Followers  Followers gained  Views gained  Partnered  Mature    Language  \\\n",
       "0    3691010           2051895     109735389       True   False     English   \n",
       "1    1966465           1141123     112807468       True    True  Portuguese   \n",
       "2    5374710           1402547      91501875       True   False     English   \n",
       "3    4195657            870484     126008641       True   False     English   \n",
       "4    4415637           1337535      49164651       True   False     English   \n",
       "\n",
       "  completa name                    first category second category  \\\n",
       "0         xQcOW                     Just Chatting        Among Us   \n",
       "1        Gaules  Counter-Strike: Global Offensive        Among Us   \n",
       "2      summit1g                Escape From Tarkov  Sea of Thieves   \n",
       "3      ESL_CSGO  Counter-Strike: Global Offensive             NaN   \n",
       "4     NICKMERCS      Call Of Duty: Modern Warfare        Fortnite   \n",
       "\n",
       "                      third category  \n",
       "0                          Overwatch  \n",
       "1                      PLAYERUNKNOWN  \n",
       "2                 Grand Theft Auto V  \n",
       "3                                NaN  \n",
       "4  Halo: The Master Chief Collection  "
      ]
     },
     "execution_count": 32,
     "metadata": {},
     "output_type": "execute_result"
    }
   ],
   "source": [
    "df_extended.head()"
   ]
  },
  {
   "cell_type": "code",
   "execution_count": 33,
   "metadata": {},
   "outputs": [],
   "source": [
    "#Merging Datasets on the Channel, Partnered, Mature, and Language Columns\n",
    "df_merge = pd.merge(df, df_extended, on=['Channel',\n",
    "                                        'Partnered','Mature', 'Language']).reset_index()\n",
    "\n",
    "#dropping duplicates(checks Channel for uniqueness)\n",
    "df_dropped= df_merge.drop_duplicates(subset=['Channel'], keep='first')"
   ]
  },
  {
   "cell_type": "code",
   "execution_count": 34,
   "metadata": {
    "scrolled": true
   },
   "outputs": [
    {
     "data": {
      "text/html": [
       "<div>\n",
       "<style scoped>\n",
       "    .dataframe tbody tr th:only-of-type {\n",
       "        vertical-align: middle;\n",
       "    }\n",
       "\n",
       "    .dataframe tbody tr th {\n",
       "        vertical-align: top;\n",
       "    }\n",
       "\n",
       "    .dataframe thead th {\n",
       "        text-align: right;\n",
       "    }\n",
       "</style>\n",
       "<table border=\"1\" class=\"dataframe\">\n",
       "  <thead>\n",
       "    <tr style=\"text-align: right;\">\n",
       "      <th></th>\n",
       "      <th>index</th>\n",
       "      <th>Channel</th>\n",
       "      <th>Watch time(Minutes)_x</th>\n",
       "      <th>Stream time(minutes)_x</th>\n",
       "      <th>Peak viewers_x</th>\n",
       "      <th>Average viewers_x</th>\n",
       "      <th>Followers_x</th>\n",
       "      <th>Followers gained_x</th>\n",
       "      <th>Views gained_x</th>\n",
       "      <th>Partnered</th>\n",
       "      <th>...</th>\n",
       "      <th>Stream time(minutes)_y</th>\n",
       "      <th>Peak viewers_y</th>\n",
       "      <th>Average viewers_y</th>\n",
       "      <th>Followers_y</th>\n",
       "      <th>Followers gained_y</th>\n",
       "      <th>Views gained_y</th>\n",
       "      <th>completa name</th>\n",
       "      <th>first category</th>\n",
       "      <th>second category</th>\n",
       "      <th>third category</th>\n",
       "    </tr>\n",
       "  </thead>\n",
       "  <tbody>\n",
       "    <tr>\n",
       "      <th>0</th>\n",
       "      <td>0</td>\n",
       "      <td>xQcOW</td>\n",
       "      <td>6196161750</td>\n",
       "      <td>215250</td>\n",
       "      <td>222720</td>\n",
       "      <td>27716</td>\n",
       "      <td>3246298</td>\n",
       "      <td>1734810</td>\n",
       "      <td>93036735</td>\n",
       "      <td>True</td>\n",
       "      <td>...</td>\n",
       "      <td>215670</td>\n",
       "      <td>222720</td>\n",
       "      <td>32913</td>\n",
       "      <td>3691010</td>\n",
       "      <td>2051895</td>\n",
       "      <td>109735389</td>\n",
       "      <td>xQcOW</td>\n",
       "      <td>Just Chatting</td>\n",
       "      <td>Among Us</td>\n",
       "      <td>Overwatch</td>\n",
       "    </tr>\n",
       "    <tr>\n",
       "      <th>1</th>\n",
       "      <td>1</td>\n",
       "      <td>summit1g</td>\n",
       "      <td>6091677300</td>\n",
       "      <td>211845</td>\n",
       "      <td>310998</td>\n",
       "      <td>25610</td>\n",
       "      <td>5310163</td>\n",
       "      <td>1370184</td>\n",
       "      <td>89705964</td>\n",
       "      <td>True</td>\n",
       "      <td>...</td>\n",
       "      <td>216000</td>\n",
       "      <td>310998</td>\n",
       "      <td>25931</td>\n",
       "      <td>5374710</td>\n",
       "      <td>1402547</td>\n",
       "      <td>91501875</td>\n",
       "      <td>summit1g</td>\n",
       "      <td>Escape From Tarkov</td>\n",
       "      <td>Sea of Thieves</td>\n",
       "      <td>Grand Theft Auto V</td>\n",
       "    </tr>\n",
       "    <tr>\n",
       "      <th>2</th>\n",
       "      <td>2</td>\n",
       "      <td>Gaules</td>\n",
       "      <td>5644590915</td>\n",
       "      <td>515280</td>\n",
       "      <td>387315</td>\n",
       "      <td>10976</td>\n",
       "      <td>1767635</td>\n",
       "      <td>1023779</td>\n",
       "      <td>102611607</td>\n",
       "      <td>True</td>\n",
       "      <td>...</td>\n",
       "      <td>515595</td>\n",
       "      <td>387315</td>\n",
       "      <td>12254</td>\n",
       "      <td>1966465</td>\n",
       "      <td>1141123</td>\n",
       "      <td>112807468</td>\n",
       "      <td>Gaules</td>\n",
       "      <td>Counter-Strike: Global Offensive</td>\n",
       "      <td>Among Us</td>\n",
       "      <td>PLAYERUNKNOWN</td>\n",
       "    </tr>\n",
       "    <tr>\n",
       "      <th>3</th>\n",
       "      <td>3</td>\n",
       "      <td>ESL_CSGO</td>\n",
       "      <td>3970318140</td>\n",
       "      <td>517740</td>\n",
       "      <td>300575</td>\n",
       "      <td>7714</td>\n",
       "      <td>3944850</td>\n",
       "      <td>703986</td>\n",
       "      <td>106546942</td>\n",
       "      <td>True</td>\n",
       "      <td>...</td>\n",
       "      <td>517965</td>\n",
       "      <td>300575</td>\n",
       "      <td>9249</td>\n",
       "      <td>4195657</td>\n",
       "      <td>870484</td>\n",
       "      <td>126008641</td>\n",
       "      <td>ESL_CSGO</td>\n",
       "      <td>Counter-Strike: Global Offensive</td>\n",
       "      <td>NaN</td>\n",
       "      <td>NaN</td>\n",
       "    </tr>\n",
       "    <tr>\n",
       "      <th>4</th>\n",
       "      <td>4</td>\n",
       "      <td>Tfue</td>\n",
       "      <td>3671000070</td>\n",
       "      <td>123660</td>\n",
       "      <td>285644</td>\n",
       "      <td>29602</td>\n",
       "      <td>8938903</td>\n",
       "      <td>2068424</td>\n",
       "      <td>78998587</td>\n",
       "      <td>True</td>\n",
       "      <td>...</td>\n",
       "      <td>130680</td>\n",
       "      <td>190173</td>\n",
       "      <td>25269</td>\n",
       "      <td>9184421</td>\n",
       "      <td>2023733</td>\n",
       "      <td>70427346</td>\n",
       "      <td>Tfue</td>\n",
       "      <td>Fortnite</td>\n",
       "      <td>Call Of Duty: Modern Warfare</td>\n",
       "      <td>Among Us</td>\n",
       "    </tr>\n",
       "  </tbody>\n",
       "</table>\n",
       "<p>5 rows × 25 columns</p>\n",
       "</div>"
      ],
      "text/plain": [
       "   index   Channel  Watch time(Minutes)_x  Stream time(minutes)_x  \\\n",
       "0      0     xQcOW             6196161750                  215250   \n",
       "1      1  summit1g             6091677300                  211845   \n",
       "2      2    Gaules             5644590915                  515280   \n",
       "3      3  ESL_CSGO             3970318140                  517740   \n",
       "4      4      Tfue             3671000070                  123660   \n",
       "\n",
       "   Peak viewers_x  Average viewers_x  Followers_x  Followers gained_x  \\\n",
       "0          222720              27716      3246298             1734810   \n",
       "1          310998              25610      5310163             1370184   \n",
       "2          387315              10976      1767635             1023779   \n",
       "3          300575               7714      3944850              703986   \n",
       "4          285644              29602      8938903             2068424   \n",
       "\n",
       "   Views gained_x  Partnered  ...  Stream time(minutes)_y Peak viewers_y  \\\n",
       "0        93036735       True  ...                  215670         222720   \n",
       "1        89705964       True  ...                  216000         310998   \n",
       "2       102611607       True  ...                  515595         387315   \n",
       "3       106546942       True  ...                  517965         300575   \n",
       "4        78998587       True  ...                  130680         190173   \n",
       "\n",
       "  Average viewers_y  Followers_y  Followers gained_y  Views gained_y  \\\n",
       "0             32913      3691010             2051895       109735389   \n",
       "1             25931      5374710             1402547        91501875   \n",
       "2             12254      1966465             1141123       112807468   \n",
       "3              9249      4195657              870484       126008641   \n",
       "4             25269      9184421             2023733        70427346   \n",
       "\n",
       "   completa name                    first category  \\\n",
       "0          xQcOW                     Just Chatting   \n",
       "1       summit1g                Escape From Tarkov   \n",
       "2         Gaules  Counter-Strike: Global Offensive   \n",
       "3       ESL_CSGO  Counter-Strike: Global Offensive   \n",
       "4           Tfue                          Fortnite   \n",
       "\n",
       "                second category      third category  \n",
       "0                      Among Us           Overwatch  \n",
       "1                Sea of Thieves  Grand Theft Auto V  \n",
       "2                      Among Us       PLAYERUNKNOWN  \n",
       "3                           NaN                 NaN  \n",
       "4  Call Of Duty: Modern Warfare            Among Us  \n",
       "\n",
       "[5 rows x 25 columns]"
      ]
     },
     "execution_count": 34,
     "metadata": {},
     "output_type": "execute_result"
    }
   ],
   "source": [
    "df_dropped.head()"
   ]
  },
  {
   "cell_type": "markdown",
   "metadata": {},
   "source": [
    "Anything denoted by an x is old data, anything by y is more recent"
   ]
  },
  {
   "cell_type": "code",
   "execution_count": 35,
   "metadata": {
    "scrolled": true
   },
   "outputs": [
    {
     "data": {
      "text/plain": [
       "11000"
      ]
     },
     "execution_count": 35,
     "metadata": {},
     "output_type": "execute_result"
    }
   ],
   "source": [
    "df.size"
   ]
  },
  {
   "cell_type": "code",
   "execution_count": 36,
   "metadata": {},
   "outputs": [],
   "source": [
    "#df_dropped.hist(figsize=(20,20), bins='auto');"
   ]
  },
  {
   "cell_type": "code",
   "execution_count": 37,
   "metadata": {
    "scrolled": true
   },
   "outputs": [
    {
     "data": {
      "text/plain": [
       "index                      0\n",
       "Channel                    0\n",
       "Watch time(Minutes)_x      0\n",
       "Stream time(minutes)_x     0\n",
       "Peak viewers_x             0\n",
       "Average viewers_x          0\n",
       "Followers_x                0\n",
       "Followers gained_x         0\n",
       "Views gained_x             0\n",
       "Partnered                  0\n",
       "Mature                     0\n",
       "Language                   0\n",
       "profile picture            0\n",
       "top count                  0\n",
       "Watch time(Minutes)_y      0\n",
       "Stream time(minutes)_y     0\n",
       "Peak viewers_y             0\n",
       "Average viewers_y          0\n",
       "Followers_y                0\n",
       "Followers gained_y         0\n",
       "Views gained_y             0\n",
       "completa name              0\n",
       "first category             0\n",
       "second category           50\n",
       "third category            80\n",
       "dtype: int64"
      ]
     },
     "execution_count": 37,
     "metadata": {},
     "output_type": "execute_result"
    }
   ],
   "source": [
    "df_dropped.isnull().sum()"
   ]
  },
  {
   "cell_type": "markdown",
   "metadata": {},
   "source": [
    "Dropping These Columns:\n",
    "\n",
    "'first category' - The one hot encoder doesn't know what to do with this\n",
    "\n",
    "'second category' - we'd have to drop a ton of streamers since we don't have data for this on a lot of streamers\n",
    "\n",
    "'third category' - we'd have to drop a ton of streamers since we don't have data for this on a lot of streamers\n",
    "\n",
    "'completa name' - This is the same as channel name\n",
    "\n",
    "'Channel' - The channel name isn't useful for the prediction\n",
    "\n",
    "'Language' - OHE doesn't know what to do with this\n",
    "\n",
    "'profile picture' - This isn't going to help us predict anything\n",
    "\n",
    "'index' - this is not a categorical variable it's just the index in the dataset"
   ]
  },
  {
   "cell_type": "code",
   "execution_count": 38,
   "metadata": {},
   "outputs": [],
   "source": [
    "df_dropped = df_dropped.drop(['first category','second category','third category','completa name', 'Channel', 'Language', 'profile picture', 'index'],axis=1)\n",
    "#df_dropped = df_dropped.drop('third category',axis=1)"
   ]
  },
  {
   "cell_type": "markdown",
   "metadata": {},
   "source": [
    "Most livestreamers hardly ever stream a second or third category and if they do it takes up a miniscule percentage of their total stream time"
   ]
  },
  {
   "cell_type": "code",
   "execution_count": 39,
   "metadata": {
    "scrolled": true
   },
   "outputs": [
    {
     "data": {
      "text/plain": [
       "Watch time(Minutes)_x     0\n",
       "Stream time(minutes)_x    0\n",
       "Peak viewers_x            0\n",
       "Average viewers_x         0\n",
       "Followers_x               0\n",
       "Followers gained_x        0\n",
       "Views gained_x            0\n",
       "Partnered                 0\n",
       "Mature                    0\n",
       "top count                 0\n",
       "Watch time(Minutes)_y     0\n",
       "Stream time(minutes)_y    0\n",
       "Peak viewers_y            0\n",
       "Average viewers_y         0\n",
       "Followers_y               0\n",
       "Followers gained_y        0\n",
       "Views gained_y            0\n",
       "dtype: int64"
      ]
     },
     "execution_count": 39,
     "metadata": {},
     "output_type": "execute_result"
    }
   ],
   "source": [
    "df_dropped.isnull().sum()"
   ]
  },
  {
   "cell_type": "markdown",
   "metadata": {},
   "source": [
    "## Making a column that keeps track of whether or not there was increased growth between previous years\n",
    "\n",
    "Anything denoted by an x is old data, anything by y is more recent, we'll step through the average viewers for the previous year versus the newer year to decide whether or not there has been growth"
   ]
  },
  {
   "cell_type": "code",
   "execution_count": 40,
   "metadata": {},
   "outputs": [],
   "source": [
    "old_growth = []\n",
    "for index in df_dropped['Average viewers_x']:\n",
    "    old_growth.append(index)"
   ]
  },
  {
   "cell_type": "code",
   "execution_count": 41,
   "metadata": {},
   "outputs": [],
   "source": [
    "new_growth = []\n",
    "for index in df_dropped['Average viewers_y']:\n",
    "    new_growth.append(index)\n"
   ]
  },
  {
   "cell_type": "code",
   "execution_count": 42,
   "metadata": {},
   "outputs": [],
   "source": [
    "positive_growth = []\n",
    "for x in range(len(new_growth)):\n",
    "    if new_growth[x] > old_growth[x]:\n",
    "        positive_growth.append(True)\n",
    "    else:\n",
    "        positive_growth.append(False)"
   ]
  },
  {
   "cell_type": "code",
   "execution_count": 43,
   "metadata": {},
   "outputs": [
    {
     "data": {
      "text/html": [
       "<div>\n",
       "<style scoped>\n",
       "    .dataframe tbody tr th:only-of-type {\n",
       "        vertical-align: middle;\n",
       "    }\n",
       "\n",
       "    .dataframe tbody tr th {\n",
       "        vertical-align: top;\n",
       "    }\n",
       "\n",
       "    .dataframe thead th {\n",
       "        text-align: right;\n",
       "    }\n",
       "</style>\n",
       "<table border=\"1\" class=\"dataframe\">\n",
       "  <thead>\n",
       "    <tr style=\"text-align: right;\">\n",
       "      <th></th>\n",
       "      <th>Watch time(Minutes)_x</th>\n",
       "      <th>Stream time(minutes)_x</th>\n",
       "      <th>Increased_Growth</th>\n",
       "      <th>Peak viewers_x</th>\n",
       "      <th>Average viewers_x</th>\n",
       "      <th>Followers_x</th>\n",
       "      <th>Followers gained_x</th>\n",
       "      <th>Views gained_x</th>\n",
       "      <th>Partnered</th>\n",
       "      <th>Mature</th>\n",
       "      <th>top count</th>\n",
       "      <th>Watch time(Minutes)_y</th>\n",
       "      <th>Stream time(minutes)_y</th>\n",
       "      <th>Peak viewers_y</th>\n",
       "      <th>Average viewers_y</th>\n",
       "      <th>Followers_y</th>\n",
       "      <th>Followers gained_y</th>\n",
       "      <th>Views gained_y</th>\n",
       "    </tr>\n",
       "  </thead>\n",
       "  <tbody>\n",
       "    <tr>\n",
       "      <th>0</th>\n",
       "      <td>6196161750</td>\n",
       "      <td>215250</td>\n",
       "      <td>True</td>\n",
       "      <td>222720</td>\n",
       "      <td>27716</td>\n",
       "      <td>3246298</td>\n",
       "      <td>1734810</td>\n",
       "      <td>93036735</td>\n",
       "      <td>True</td>\n",
       "      <td>False</td>\n",
       "      <td>1</td>\n",
       "      <td>7333609065</td>\n",
       "      <td>215670</td>\n",
       "      <td>222720</td>\n",
       "      <td>32913</td>\n",
       "      <td>3691010</td>\n",
       "      <td>2051895</td>\n",
       "      <td>109735389</td>\n",
       "    </tr>\n",
       "    <tr>\n",
       "      <th>1</th>\n",
       "      <td>6091677300</td>\n",
       "      <td>211845</td>\n",
       "      <td>True</td>\n",
       "      <td>310998</td>\n",
       "      <td>25610</td>\n",
       "      <td>5310163</td>\n",
       "      <td>1370184</td>\n",
       "      <td>89705964</td>\n",
       "      <td>True</td>\n",
       "      <td>False</td>\n",
       "      <td>3</td>\n",
       "      <td>6235007490</td>\n",
       "      <td>216000</td>\n",
       "      <td>310998</td>\n",
       "      <td>25931</td>\n",
       "      <td>5374710</td>\n",
       "      <td>1402547</td>\n",
       "      <td>91501875</td>\n",
       "    </tr>\n",
       "    <tr>\n",
       "      <th>2</th>\n",
       "      <td>5644590915</td>\n",
       "      <td>515280</td>\n",
       "      <td>True</td>\n",
       "      <td>387315</td>\n",
       "      <td>10976</td>\n",
       "      <td>1767635</td>\n",
       "      <td>1023779</td>\n",
       "      <td>102611607</td>\n",
       "      <td>True</td>\n",
       "      <td>True</td>\n",
       "      <td>2</td>\n",
       "      <td>6314532585</td>\n",
       "      <td>515595</td>\n",
       "      <td>387315</td>\n",
       "      <td>12254</td>\n",
       "      <td>1966465</td>\n",
       "      <td>1141123</td>\n",
       "      <td>112807468</td>\n",
       "    </tr>\n",
       "    <tr>\n",
       "      <th>3</th>\n",
       "      <td>3970318140</td>\n",
       "      <td>517740</td>\n",
       "      <td>True</td>\n",
       "      <td>300575</td>\n",
       "      <td>7714</td>\n",
       "      <td>3944850</td>\n",
       "      <td>703986</td>\n",
       "      <td>106546942</td>\n",
       "      <td>True</td>\n",
       "      <td>False</td>\n",
       "      <td>4</td>\n",
       "      <td>4764929775</td>\n",
       "      <td>517965</td>\n",
       "      <td>300575</td>\n",
       "      <td>9249</td>\n",
       "      <td>4195657</td>\n",
       "      <td>870484</td>\n",
       "      <td>126008641</td>\n",
       "    </tr>\n",
       "    <tr>\n",
       "      <th>4</th>\n",
       "      <td>3671000070</td>\n",
       "      <td>123660</td>\n",
       "      <td>False</td>\n",
       "      <td>285644</td>\n",
       "      <td>29602</td>\n",
       "      <td>8938903</td>\n",
       "      <td>2068424</td>\n",
       "      <td>78998587</td>\n",
       "      <td>True</td>\n",
       "      <td>False</td>\n",
       "      <td>9</td>\n",
       "      <td>3276339360</td>\n",
       "      <td>130680</td>\n",
       "      <td>190173</td>\n",
       "      <td>25269</td>\n",
       "      <td>9184421</td>\n",
       "      <td>2023733</td>\n",
       "      <td>70427346</td>\n",
       "    </tr>\n",
       "  </tbody>\n",
       "</table>\n",
       "</div>"
      ],
      "text/plain": [
       "   Watch time(Minutes)_x  Stream time(minutes)_x  Increased_Growth  \\\n",
       "0             6196161750                  215250              True   \n",
       "1             6091677300                  211845              True   \n",
       "2             5644590915                  515280              True   \n",
       "3             3970318140                  517740              True   \n",
       "4             3671000070                  123660             False   \n",
       "\n",
       "   Peak viewers_x  Average viewers_x  Followers_x  Followers gained_x  \\\n",
       "0          222720              27716      3246298             1734810   \n",
       "1          310998              25610      5310163             1370184   \n",
       "2          387315              10976      1767635             1023779   \n",
       "3          300575               7714      3944850              703986   \n",
       "4          285644              29602      8938903             2068424   \n",
       "\n",
       "   Views gained_x  Partnered  Mature  top count  Watch time(Minutes)_y  \\\n",
       "0        93036735       True   False          1             7333609065   \n",
       "1        89705964       True   False          3             6235007490   \n",
       "2       102611607       True    True          2             6314532585   \n",
       "3       106546942       True   False          4             4764929775   \n",
       "4        78998587       True   False          9             3276339360   \n",
       "\n",
       "   Stream time(minutes)_y  Peak viewers_y  Average viewers_y  Followers_y  \\\n",
       "0                  215670          222720              32913      3691010   \n",
       "1                  216000          310998              25931      5374710   \n",
       "2                  515595          387315              12254      1966465   \n",
       "3                  517965          300575               9249      4195657   \n",
       "4                  130680          190173              25269      9184421   \n",
       "\n",
       "   Followers gained_y  Views gained_y  \n",
       "0             2051895       109735389  \n",
       "1             1402547        91501875  \n",
       "2             1141123       112807468  \n",
       "3              870484       126008641  \n",
       "4             2023733        70427346  "
      ]
     },
     "execution_count": 43,
     "metadata": {},
     "output_type": "execute_result"
    }
   ],
   "source": [
    "df_dropped.insert(2,'Increased_Growth', positive_growth)\n",
    "df_dropped.head()"
   ]
  },
  {
   "cell_type": "markdown",
   "metadata": {},
   "source": [
    "## Data Preperation\n",
    "\n",
    "Store the features in a variable names 'X' and the target variable in 'y'."
   ]
  },
  {
   "cell_type": "code",
   "execution_count": 44,
   "metadata": {},
   "outputs": [],
   "source": [
    "X = df_dropped.drop(['Increased_Growth','Average viewers_x', 'Average viewers_y'],axis=1)\n",
    "y = df_dropped.Increased_Growth"
   ]
  },
  {
   "cell_type": "code",
   "execution_count": 45,
   "metadata": {},
   "outputs": [
    {
     "data": {
      "text/html": [
       "<div>\n",
       "<style scoped>\n",
       "    .dataframe tbody tr th:only-of-type {\n",
       "        vertical-align: middle;\n",
       "    }\n",
       "\n",
       "    .dataframe tbody tr th {\n",
       "        vertical-align: top;\n",
       "    }\n",
       "\n",
       "    .dataframe thead th {\n",
       "        text-align: right;\n",
       "    }\n",
       "</style>\n",
       "<table border=\"1\" class=\"dataframe\">\n",
       "  <thead>\n",
       "    <tr style=\"text-align: right;\">\n",
       "      <th></th>\n",
       "      <th>Watch time(Minutes)_x</th>\n",
       "      <th>Stream time(minutes)_x</th>\n",
       "      <th>Peak viewers_x</th>\n",
       "      <th>Followers_x</th>\n",
       "      <th>Followers gained_x</th>\n",
       "      <th>Views gained_x</th>\n",
       "      <th>Partnered</th>\n",
       "      <th>Mature</th>\n",
       "      <th>top count</th>\n",
       "      <th>Watch time(Minutes)_y</th>\n",
       "      <th>Stream time(minutes)_y</th>\n",
       "      <th>Peak viewers_y</th>\n",
       "      <th>Followers_y</th>\n",
       "      <th>Followers gained_y</th>\n",
       "      <th>Views gained_y</th>\n",
       "    </tr>\n",
       "  </thead>\n",
       "  <tbody>\n",
       "    <tr>\n",
       "      <th>0</th>\n",
       "      <td>6196161750</td>\n",
       "      <td>215250</td>\n",
       "      <td>222720</td>\n",
       "      <td>3246298</td>\n",
       "      <td>1734810</td>\n",
       "      <td>93036735</td>\n",
       "      <td>True</td>\n",
       "      <td>False</td>\n",
       "      <td>1</td>\n",
       "      <td>7333609065</td>\n",
       "      <td>215670</td>\n",
       "      <td>222720</td>\n",
       "      <td>3691010</td>\n",
       "      <td>2051895</td>\n",
       "      <td>109735389</td>\n",
       "    </tr>\n",
       "    <tr>\n",
       "      <th>1</th>\n",
       "      <td>6091677300</td>\n",
       "      <td>211845</td>\n",
       "      <td>310998</td>\n",
       "      <td>5310163</td>\n",
       "      <td>1370184</td>\n",
       "      <td>89705964</td>\n",
       "      <td>True</td>\n",
       "      <td>False</td>\n",
       "      <td>3</td>\n",
       "      <td>6235007490</td>\n",
       "      <td>216000</td>\n",
       "      <td>310998</td>\n",
       "      <td>5374710</td>\n",
       "      <td>1402547</td>\n",
       "      <td>91501875</td>\n",
       "    </tr>\n",
       "    <tr>\n",
       "      <th>2</th>\n",
       "      <td>5644590915</td>\n",
       "      <td>515280</td>\n",
       "      <td>387315</td>\n",
       "      <td>1767635</td>\n",
       "      <td>1023779</td>\n",
       "      <td>102611607</td>\n",
       "      <td>True</td>\n",
       "      <td>True</td>\n",
       "      <td>2</td>\n",
       "      <td>6314532585</td>\n",
       "      <td>515595</td>\n",
       "      <td>387315</td>\n",
       "      <td>1966465</td>\n",
       "      <td>1141123</td>\n",
       "      <td>112807468</td>\n",
       "    </tr>\n",
       "    <tr>\n",
       "      <th>3</th>\n",
       "      <td>3970318140</td>\n",
       "      <td>517740</td>\n",
       "      <td>300575</td>\n",
       "      <td>3944850</td>\n",
       "      <td>703986</td>\n",
       "      <td>106546942</td>\n",
       "      <td>True</td>\n",
       "      <td>False</td>\n",
       "      <td>4</td>\n",
       "      <td>4764929775</td>\n",
       "      <td>517965</td>\n",
       "      <td>300575</td>\n",
       "      <td>4195657</td>\n",
       "      <td>870484</td>\n",
       "      <td>126008641</td>\n",
       "    </tr>\n",
       "    <tr>\n",
       "      <th>4</th>\n",
       "      <td>3671000070</td>\n",
       "      <td>123660</td>\n",
       "      <td>285644</td>\n",
       "      <td>8938903</td>\n",
       "      <td>2068424</td>\n",
       "      <td>78998587</td>\n",
       "      <td>True</td>\n",
       "      <td>False</td>\n",
       "      <td>9</td>\n",
       "      <td>3276339360</td>\n",
       "      <td>130680</td>\n",
       "      <td>190173</td>\n",
       "      <td>9184421</td>\n",
       "      <td>2023733</td>\n",
       "      <td>70427346</td>\n",
       "    </tr>\n",
       "    <tr>\n",
       "      <th>...</th>\n",
       "      <td>...</td>\n",
       "      <td>...</td>\n",
       "      <td>...</td>\n",
       "      <td>...</td>\n",
       "      <td>...</td>\n",
       "      <td>...</td>\n",
       "      <td>...</td>\n",
       "      <td>...</td>\n",
       "      <td>...</td>\n",
       "      <td>...</td>\n",
       "      <td>...</td>\n",
       "      <td>...</td>\n",
       "      <td>...</td>\n",
       "      <td>...</td>\n",
       "      <td>...</td>\n",
       "    </tr>\n",
       "    <tr>\n",
       "      <th>951</th>\n",
       "      <td>122628630</td>\n",
       "      <td>103020</td>\n",
       "      <td>14566</td>\n",
       "      <td>48007</td>\n",
       "      <td>8995</td>\n",
       "      <td>87603521</td>\n",
       "      <td>True</td>\n",
       "      <td>False</td>\n",
       "      <td>1171</td>\n",
       "      <td>112819800</td>\n",
       "      <td>114090</td>\n",
       "      <td>14566</td>\n",
       "      <td>48735</td>\n",
       "      <td>8146</td>\n",
       "      <td>85061422</td>\n",
       "    </tr>\n",
       "    <tr>\n",
       "      <th>952</th>\n",
       "      <td>122524635</td>\n",
       "      <td>13560</td>\n",
       "      <td>21359</td>\n",
       "      <td>601927</td>\n",
       "      <td>562691</td>\n",
       "      <td>2162107</td>\n",
       "      <td>True</td>\n",
       "      <td>False</td>\n",
       "      <td>559</td>\n",
       "      <td>233955885</td>\n",
       "      <td>28215</td>\n",
       "      <td>21359</td>\n",
       "      <td>815833</td>\n",
       "      <td>797857</td>\n",
       "      <td>4145737</td>\n",
       "    </tr>\n",
       "    <tr>\n",
       "      <th>953</th>\n",
       "      <td>122523705</td>\n",
       "      <td>153000</td>\n",
       "      <td>3940</td>\n",
       "      <td>213212</td>\n",
       "      <td>52289</td>\n",
       "      <td>4399897</td>\n",
       "      <td>True</td>\n",
       "      <td>False</td>\n",
       "      <td>1029</td>\n",
       "      <td>127993785</td>\n",
       "      <td>150495</td>\n",
       "      <td>4460</td>\n",
       "      <td>228210</td>\n",
       "      <td>56879</td>\n",
       "      <td>4851825</td>\n",
       "    </tr>\n",
       "    <tr>\n",
       "      <th>954</th>\n",
       "      <td>122452320</td>\n",
       "      <td>217410</td>\n",
       "      <td>6431</td>\n",
       "      <td>109068</td>\n",
       "      <td>-4942</td>\n",
       "      <td>3417970</td>\n",
       "      <td>True</td>\n",
       "      <td>False</td>\n",
       "      <td>1179</td>\n",
       "      <td>111773565</td>\n",
       "      <td>224880</td>\n",
       "      <td>6431</td>\n",
       "      <td>106932</td>\n",
       "      <td>-7826</td>\n",
       "      <td>3213147</td>\n",
       "    </tr>\n",
       "    <tr>\n",
       "      <th>955</th>\n",
       "      <td>122192850</td>\n",
       "      <td>99180</td>\n",
       "      <td>13788</td>\n",
       "      <td>178553</td>\n",
       "      <td>59432</td>\n",
       "      <td>2049420</td>\n",
       "      <td>True</td>\n",
       "      <td>False</td>\n",
       "      <td>1746</td>\n",
       "      <td>71264880</td>\n",
       "      <td>98535</td>\n",
       "      <td>5791</td>\n",
       "      <td>179517</td>\n",
       "      <td>38219</td>\n",
       "      <td>1359834</td>\n",
       "    </tr>\n",
       "  </tbody>\n",
       "</table>\n",
       "<p>956 rows × 15 columns</p>\n",
       "</div>"
      ],
      "text/plain": [
       "     Watch time(Minutes)_x  Stream time(minutes)_x  Peak viewers_x  \\\n",
       "0               6196161750                  215250          222720   \n",
       "1               6091677300                  211845          310998   \n",
       "2               5644590915                  515280          387315   \n",
       "3               3970318140                  517740          300575   \n",
       "4               3671000070                  123660          285644   \n",
       "..                     ...                     ...             ...   \n",
       "951              122628630                  103020           14566   \n",
       "952              122524635                   13560           21359   \n",
       "953              122523705                  153000            3940   \n",
       "954              122452320                  217410            6431   \n",
       "955              122192850                   99180           13788   \n",
       "\n",
       "     Followers_x  Followers gained_x  Views gained_x  Partnered  Mature  \\\n",
       "0        3246298             1734810        93036735       True   False   \n",
       "1        5310163             1370184        89705964       True   False   \n",
       "2        1767635             1023779       102611607       True    True   \n",
       "3        3944850              703986       106546942       True   False   \n",
       "4        8938903             2068424        78998587       True   False   \n",
       "..           ...                 ...             ...        ...     ...   \n",
       "951        48007                8995        87603521       True   False   \n",
       "952       601927              562691         2162107       True   False   \n",
       "953       213212               52289         4399897       True   False   \n",
       "954       109068               -4942         3417970       True   False   \n",
       "955       178553               59432         2049420       True   False   \n",
       "\n",
       "     top count  Watch time(Minutes)_y  Stream time(minutes)_y  Peak viewers_y  \\\n",
       "0            1             7333609065                  215670          222720   \n",
       "1            3             6235007490                  216000          310998   \n",
       "2            2             6314532585                  515595          387315   \n",
       "3            4             4764929775                  517965          300575   \n",
       "4            9             3276339360                  130680          190173   \n",
       "..         ...                    ...                     ...             ...   \n",
       "951       1171              112819800                  114090           14566   \n",
       "952        559              233955885                   28215           21359   \n",
       "953       1029              127993785                  150495            4460   \n",
       "954       1179              111773565                  224880            6431   \n",
       "955       1746               71264880                   98535            5791   \n",
       "\n",
       "     Followers_y  Followers gained_y  Views gained_y  \n",
       "0        3691010             2051895       109735389  \n",
       "1        5374710             1402547        91501875  \n",
       "2        1966465             1141123       112807468  \n",
       "3        4195657              870484       126008641  \n",
       "4        9184421             2023733        70427346  \n",
       "..           ...                 ...             ...  \n",
       "951        48735                8146        85061422  \n",
       "952       815833              797857         4145737  \n",
       "953       228210               56879         4851825  \n",
       "954       106932               -7826         3213147  \n",
       "955       179517               38219         1359834  \n",
       "\n",
       "[956 rows x 15 columns]"
      ]
     },
     "execution_count": 45,
     "metadata": {},
     "output_type": "execute_result"
    }
   ],
   "source": [
    "X"
   ]
  },
  {
   "cell_type": "markdown",
   "metadata": {},
   "source": [
    "## Train-Test Split\n",
    "\n",
    "Split the data into training and testing sets."
   ]
  },
  {
   "cell_type": "code",
   "execution_count": 46,
   "metadata": {},
   "outputs": [],
   "source": [
    "X_train, X_test, y_train, y_test = train_test_split(X, y, random_state=42)"
   ]
  },
  {
   "cell_type": "markdown",
   "metadata": {},
   "source": [
    "### One Hot Encoding\n",
    "\n",
    "Create binary columns for all values in categorical columns."
   ]
  },
  {
   "cell_type": "code",
   "execution_count": 47,
   "metadata": {},
   "outputs": [],
   "source": [
    "#Ohe-ing Train set\n",
    "X_train_cat = X_train.select_dtypes('object')\n",
    "\n",
    "ohe = OneHotEncoder(drop='first',sparse=False)\n",
    "\n",
    "dums_train = ohe.fit_transform(X_train_cat)\n",
    "dums_train_df = pd.DataFrame(dums_train,\n",
    "                       columns=ohe.get_feature_names(),\n",
    "                       index=X_train_cat.index)\n",
    "\n",
    "nums_train_df = X_train.select_dtypes(['int64','float64'])\n",
    "\n",
    "X_train_clean = pd.concat([nums_train_df, dums_train_df], axis=1)"
   ]
  },
  {
   "cell_type": "code",
   "execution_count": 48,
   "metadata": {},
   "outputs": [],
   "source": [
    "#Ohe-ing Test set\n",
    "X_test_cat = X_test.select_dtypes('object')\n",
    "\n",
    "dums_test = ohe.transform(X_test_cat)\n",
    "dums_test_df = pd.DataFrame(dums_test,\n",
    "                       columns=ohe.get_feature_names(),\n",
    "                       index=X_test_cat.index)\n",
    "\n",
    "nums_test_df = X_test.select_dtypes(['int64','float64'])\n",
    "\n",
    "X_test_clean = pd.concat([nums_test_df, dums_test_df], axis=1)"
   ]
  },
  {
   "cell_type": "markdown",
   "metadata": {},
   "source": [
    "## Modeling"
   ]
  },
  {
   "cell_type": "markdown",
   "metadata": {},
   "source": [
    "### Dummy Classifier\n",
    "\n",
    "Baseline model for comparison"
   ]
  },
  {
   "cell_type": "code",
   "execution_count": 49,
   "metadata": {},
   "outputs": [],
   "source": [
    "dummy = DummyClassifier(random_state=42) \n",
    "\n",
    "#establishing random_state for reproducibility\n",
    "dummy.fit(X_train_clean, y_train)\n",
    "y_pred = dummy.predict(X_test_clean)"
   ]
  },
  {
   "cell_type": "code",
   "execution_count": 50,
   "metadata": {},
   "outputs": [
    {
     "data": {
      "image/png": "[encoded data removed]",
      "text/plain": [
       "<Figure size 432x288 with 2 Axes>"
      ]
     },
     "metadata": {
      "needs_background": "light"
     },
     "output_type": "display_data"
    }
   ],
   "source": [
    "plot_confusion_matrix(estimator=dummy, X=X_test_clean, y_true=y_test, normalize='true');"
   ]
  },
  {
   "cell_type": "code",
   "execution_count": 51,
   "metadata": {},
   "outputs": [
    {
     "data": {
      "text/plain": [
       "True     0.670851\n",
       "False    0.329149\n",
       "Name: Increased_Growth, dtype: float64"
      ]
     },
     "execution_count": 51,
     "metadata": {},
     "output_type": "execute_result"
    }
   ],
   "source": [
    "y_train.value_counts(normalize=True)"
   ]
  },
  {
   "cell_type": "code",
   "execution_count": 52,
   "metadata": {},
   "outputs": [
    {
     "name": "stdout",
     "output_type": "stream",
     "text": [
      "Accuracy Score: 0.5815899581589958\n"
     ]
    }
   ],
   "source": [
    "print(\"Accuracy Score: {}\".format(accuracy_score(y_test, y_pred)))"
   ]
  },
  {
   "cell_type": "markdown",
   "metadata": {},
   "source": [
    "We want to beat this accuracy score as we iterate through different models"
   ]
  },
  {
   "cell_type": "markdown",
   "metadata": {},
   "source": [
    "## Decision Tree"
   ]
  },
  {
   "cell_type": "code",
   "execution_count": 53,
   "metadata": {},
   "outputs": [],
   "source": [
    "tree = DecisionTreeClassifier()"
   ]
  },
  {
   "cell_type": "code",
   "execution_count": 54,
   "metadata": {},
   "outputs": [],
   "source": [
    "tree_grid = {'max_leaf_nodes': [4, 5, 6, 7], \n",
    "             'min_samples_split': [2, 3, 4],\n",
    "             'max_depth': [2, 3, 4, 5],\n",
    "            }"
   ]
  },
  {
   "cell_type": "code",
   "execution_count": 55,
   "metadata": {},
   "outputs": [],
   "source": [
    "tree_grid_search = GridSearchCV(tree, tree_grid, cv=5)"
   ]
  },
  {
   "cell_type": "code",
   "execution_count": 56,
   "metadata": {},
   "outputs": [
    {
     "data": {
      "text/plain": [
       "GridSearchCV(cv=5, estimator=DecisionTreeClassifier(),\n",
       "             param_grid={'max_depth': [2, 3, 4, 5],\n",
       "                         'max_leaf_nodes': [4, 5, 6, 7],\n",
       "                         'min_samples_split': [2, 3, 4]})"
      ]
     },
     "execution_count": 56,
     "metadata": {},
     "output_type": "execute_result"
    }
   ],
   "source": [
    "tree_grid_search.fit(X_train, y_train)"
   ]
  },
  {
   "cell_type": "code",
   "execution_count": 57,
   "metadata": {},
   "outputs": [
    {
     "data": {
      "text/plain": [
       "{'max_depth': 2, 'max_leaf_nodes': 4, 'min_samples_split': 2}"
      ]
     },
     "execution_count": 57,
     "metadata": {},
     "output_type": "execute_result"
    }
   ],
   "source": [
    "tree_grid_search.best_params_"
   ]
  },
  {
   "cell_type": "code",
   "execution_count": 58,
   "metadata": {},
   "outputs": [
    {
     "data": {
      "text/plain": [
       "0.6917249417249417"
      ]
     },
     "execution_count": 58,
     "metadata": {},
     "output_type": "execute_result"
    }
   ],
   "source": [
    "tree_grid_search.best_score_"
   ]
  },
  {
   "cell_type": "code",
   "execution_count": 59,
   "metadata": {},
   "outputs": [
    {
     "data": {
      "text/plain": [
       "0.6820083682008368"
      ]
     },
     "execution_count": 59,
     "metadata": {},
     "output_type": "execute_result"
    }
   ],
   "source": [
    "tree_grid_search.best_estimator_.score(X_test, y_test)"
   ]
  },
  {
   "cell_type": "code",
   "execution_count": 60,
   "metadata": {},
   "outputs": [],
   "source": [
    "best_tree = tree_grid_search.best_estimator_"
   ]
  },
  {
   "cell_type": "code",
   "execution_count": 61,
   "metadata": {},
   "outputs": [],
   "source": [
    "tree_test_preds = best_tree.predict(X_test)"
   ]
  },
  {
   "cell_type": "code",
   "execution_count": 62,
   "metadata": {},
   "outputs": [
    {
     "data": {
      "text/plain": [
       "[Text(167.4, 181.2, 'X[13] <= 43604.0\\ngini = 0.442\\nsamples = 717\\nvalue = [236, 481]'),\n",
       " Text(83.7, 108.72, 'X[4] <= 40694.5\\ngini = 0.499\\nsamples = 192\\nvalue = [100, 92]'),\n",
       " Text(41.85, 36.23999999999998, 'gini = 0.494\\nsamples = 160\\nvalue = [71, 89]'),\n",
       " Text(125.55000000000001, 36.23999999999998, 'gini = 0.17\\nsamples = 32\\nvalue = [29, 3]'),\n",
       " Text(251.10000000000002, 108.72, 'X[1] <= 30555.0\\ngini = 0.384\\nsamples = 525\\nvalue = [136, 389]'),\n",
       " Text(209.25, 36.23999999999998, 'gini = 0.494\\nsamples = 38\\nvalue = [21, 17]'),\n",
       " Text(292.95, 36.23999999999998, 'gini = 0.361\\nsamples = 487\\nvalue = [115, 372]')]"
      ]
     },
     "execution_count": 62,
     "metadata": {},
     "output_type": "execute_result"
    },
    {
     "data": {
      "image/png": "[encoded data removed]",
      "text/plain": [
       "<Figure size 432x288 with 1 Axes>"
      ]
     },
     "metadata": {
      "needs_background": "light"
     },
     "output_type": "display_data"
    }
   ],
   "source": [
    "#creating a visualization of the decision tree\n",
    "plot_tree(best_tree)"
   ]
  },
  {
   "cell_type": "code",
   "execution_count": 63,
   "metadata": {},
   "outputs": [
    {
     "data": {
      "text/plain": [
       "<sklearn.metrics._plot.confusion_matrix.ConfusionMatrixDisplay at 0x29a379b4100>"
      ]
     },
     "execution_count": 63,
     "metadata": {},
     "output_type": "execute_result"
    },
    {
     "data": {
      "image/png": "[encoded data removed]",
      "text/plain": [
       "<Figure size 432x288 with 2 Axes>"
      ]
     },
     "metadata": {
      "needs_background": "light"
     },
     "output_type": "display_data"
    }
   ],
   "source": [
    "plot_confusion_matrix(best_tree, X_test, y_test, normalize='true')"
   ]
  },
  {
   "cell_type": "code",
   "execution_count": 64,
   "metadata": {},
   "outputs": [
    {
     "data": {
      "text/plain": [
       "<sklearn.metrics._plot.roc_curve.RocCurveDisplay at 0x29a361401c0>"
      ]
     },
     "execution_count": 64,
     "metadata": {},
     "output_type": "execute_result"
    },
    {
     "data": {
      "image/png": "[encoded data removed]",
      "text/plain": [
       "<Figure size 432x288 with 1 Axes>"
      ]
     },
     "metadata": {
      "needs_background": "light"
     },
     "output_type": "display_data"
    }
   ],
   "source": [
    "plot_roc_curve(best_tree, X_test, y_test)"
   ]
  },
  {
   "cell_type": "code",
   "execution_count": 65,
   "metadata": {},
   "outputs": [],
   "source": [
    "#prints all relevant metrics of a model, this will be reused so we're defining it here\n",
    "def print_metrics(labels, preds):\n",
    "    print(\"Precision Score: {}\".format(precision_score(labels, preds)))\n",
    "    print(\"Recall Score: {}\".format(recall_score(labels, preds)))\n",
    "    print(\"Accuracy Score: {}\".format(accuracy_score(labels, preds)))\n",
    "    print(\"F1 Score: {}\".format(f1_score(labels, preds)))"
   ]
  },
  {
   "cell_type": "code",
   "execution_count": 66,
   "metadata": {
    "scrolled": true
   },
   "outputs": [
    {
     "name": "stdout",
     "output_type": "stream",
     "text": [
      "Precision Score: 0.7083333333333334\n",
      "Recall Score: 0.9216867469879518\n",
      "Accuracy Score: 0.6820083682008368\n",
      "F1 Score: 0.8010471204188482\n"
     ]
    }
   ],
   "source": [
    "print_metrics(y_test, tree_test_preds)"
   ]
  },
  {
   "cell_type": "markdown",
   "metadata": {},
   "source": [
    "We have an accuracy score of 68% which is certainly higher than the baseline, let's see if we can do better"
   ]
  },
  {
   "cell_type": "code",
   "execution_count": 67,
   "metadata": {},
   "outputs": [
    {
     "data": {
      "text/plain": [
       "['Followers gained_y',\n",
       " 'Followers gained_x',\n",
       " 'Stream time(minutes)_x',\n",
       " 'Watch time(Minutes)_x']"
      ]
     },
     "execution_count": 67,
     "metadata": {},
     "output_type": "execute_result"
    }
   ],
   "source": [
    "tree_features = list(zip(best_tree.feature_importances_, X_train.columns.values))\n",
    "tree_features = sorted(tree_features, key=lambda x: x[0], reverse=True)\n",
    "tree_features_values = [x[0] for x in tree_features][:4]\n",
    "tree_features_names = [x[1] for x in tree_features][:4]\n",
    "tree_features_names"
   ]
  },
  {
   "cell_type": "code",
   "execution_count": 68,
   "metadata": {},
   "outputs": [
    {
     "data": {
      "text/plain": [
       "Text(0, 0.5, 'Feature')"
      ]
     },
     "execution_count": 68,
     "metadata": {},
     "output_type": "execute_result"
    },
    {
     "data": {
      "image/png": "[encoded data removed]",
      "text/plain": [
       "<Figure size 576x576 with 1 Axes>"
      ]
     },
     "metadata": {
      "needs_background": "light"
     },
     "output_type": "display_data"
    }
   ],
   "source": [
    "plt.figure(figsize=(8,8))\n",
    "tree_labels = ['Followers gained_y',\n",
    " 'Followers gained_x',\n",
    " 'Stream time(minutes)_x',\n",
    " 'Watch time(Minutes)_x']\n",
    "plt.barh(tree_features_names, tree_features_values, align='center', tick_label=tree_labels)\n",
    "plt.xlabel('Mean Decrease Accuracy', fontsize=20, labelpad=10)\n",
    "plt.ylabel('Feature', fontsize=20)"
   ]
  },
  {
   "cell_type": "code",
   "execution_count": 69,
   "metadata": {},
   "outputs": [
    {
     "data": {
      "text/html": [
       "<div>\n",
       "<style scoped>\n",
       "    .dataframe tbody tr th:only-of-type {\n",
       "        vertical-align: middle;\n",
       "    }\n",
       "\n",
       "    .dataframe tbody tr th {\n",
       "        vertical-align: top;\n",
       "    }\n",
       "\n",
       "    .dataframe thead th {\n",
       "        text-align: right;\n",
       "    }\n",
       "</style>\n",
       "<table border=\"1\" class=\"dataframe\">\n",
       "  <thead>\n",
       "    <tr style=\"text-align: right;\">\n",
       "      <th></th>\n",
       "      <th>mean_fit_time</th>\n",
       "      <th>std_fit_time</th>\n",
       "      <th>mean_score_time</th>\n",
       "      <th>std_score_time</th>\n",
       "      <th>param_max_depth</th>\n",
       "      <th>param_max_leaf_nodes</th>\n",
       "      <th>param_min_samples_split</th>\n",
       "      <th>params</th>\n",
       "      <th>split0_test_score</th>\n",
       "      <th>split1_test_score</th>\n",
       "      <th>split2_test_score</th>\n",
       "      <th>split3_test_score</th>\n",
       "      <th>split4_test_score</th>\n",
       "      <th>mean_test_score</th>\n",
       "      <th>std_test_score</th>\n",
       "      <th>rank_test_score</th>\n",
       "    </tr>\n",
       "  </thead>\n",
       "  <tbody>\n",
       "    <tr>\n",
       "      <th>0</th>\n",
       "      <td>0.003243</td>\n",
       "      <td>0.000410</td>\n",
       "      <td>0.001218</td>\n",
       "      <td>0.000252</td>\n",
       "      <td>2</td>\n",
       "      <td>4</td>\n",
       "      <td>2</td>\n",
       "      <td>{'max_depth': 2, 'max_leaf_nodes': 4, 'min_sam...</td>\n",
       "      <td>0.708333</td>\n",
       "      <td>0.708333</td>\n",
       "      <td>0.657343</td>\n",
       "      <td>0.692308</td>\n",
       "      <td>0.692308</td>\n",
       "      <td>0.691725</td>\n",
       "      <td>0.018625</td>\n",
       "      <td>1</td>\n",
       "    </tr>\n",
       "    <tr>\n",
       "      <th>1</th>\n",
       "      <td>0.002838</td>\n",
       "      <td>0.000245</td>\n",
       "      <td>0.001317</td>\n",
       "      <td>0.000249</td>\n",
       "      <td>2</td>\n",
       "      <td>4</td>\n",
       "      <td>3</td>\n",
       "      <td>{'max_depth': 2, 'max_leaf_nodes': 4, 'min_sam...</td>\n",
       "      <td>0.708333</td>\n",
       "      <td>0.708333</td>\n",
       "      <td>0.657343</td>\n",
       "      <td>0.692308</td>\n",
       "      <td>0.692308</td>\n",
       "      <td>0.691725</td>\n",
       "      <td>0.018625</td>\n",
       "      <td>1</td>\n",
       "    </tr>\n",
       "    <tr>\n",
       "      <th>2</th>\n",
       "      <td>0.003043</td>\n",
       "      <td>0.000017</td>\n",
       "      <td>0.001417</td>\n",
       "      <td>0.000203</td>\n",
       "      <td>2</td>\n",
       "      <td>4</td>\n",
       "      <td>4</td>\n",
       "      <td>{'max_depth': 2, 'max_leaf_nodes': 4, 'min_sam...</td>\n",
       "      <td>0.708333</td>\n",
       "      <td>0.708333</td>\n",
       "      <td>0.657343</td>\n",
       "      <td>0.692308</td>\n",
       "      <td>0.692308</td>\n",
       "      <td>0.691725</td>\n",
       "      <td>0.018625</td>\n",
       "      <td>1</td>\n",
       "    </tr>\n",
       "    <tr>\n",
       "      <th>3</th>\n",
       "      <td>0.002834</td>\n",
       "      <td>0.000249</td>\n",
       "      <td>0.001416</td>\n",
       "      <td>0.000202</td>\n",
       "      <td>2</td>\n",
       "      <td>5</td>\n",
       "      <td>2</td>\n",
       "      <td>{'max_depth': 2, 'max_leaf_nodes': 5, 'min_sam...</td>\n",
       "      <td>0.708333</td>\n",
       "      <td>0.708333</td>\n",
       "      <td>0.657343</td>\n",
       "      <td>0.692308</td>\n",
       "      <td>0.692308</td>\n",
       "      <td>0.691725</td>\n",
       "      <td>0.018625</td>\n",
       "      <td>1</td>\n",
       "    </tr>\n",
       "    <tr>\n",
       "      <th>4</th>\n",
       "      <td>0.002831</td>\n",
       "      <td>0.000248</td>\n",
       "      <td>0.001216</td>\n",
       "      <td>0.000246</td>\n",
       "      <td>2</td>\n",
       "      <td>5</td>\n",
       "      <td>3</td>\n",
       "      <td>{'max_depth': 2, 'max_leaf_nodes': 5, 'min_sam...</td>\n",
       "      <td>0.708333</td>\n",
       "      <td>0.708333</td>\n",
       "      <td>0.657343</td>\n",
       "      <td>0.692308</td>\n",
       "      <td>0.692308</td>\n",
       "      <td>0.691725</td>\n",
       "      <td>0.018625</td>\n",
       "      <td>1</td>\n",
       "    </tr>\n",
       "  </tbody>\n",
       "</table>\n",
       "</div>"
      ],
      "text/plain": [
       "   mean_fit_time  std_fit_time  mean_score_time  std_score_time  \\\n",
       "0       0.003243      0.000410         0.001218        0.000252   \n",
       "1       0.002838      0.000245         0.001317        0.000249   \n",
       "2       0.003043      0.000017         0.001417        0.000203   \n",
       "3       0.002834      0.000249         0.001416        0.000202   \n",
       "4       0.002831      0.000248         0.001216        0.000246   \n",
       "\n",
       "  param_max_depth param_max_leaf_nodes param_min_samples_split  \\\n",
       "0               2                    4                       2   \n",
       "1               2                    4                       3   \n",
       "2               2                    4                       4   \n",
       "3               2                    5                       2   \n",
       "4               2                    5                       3   \n",
       "\n",
       "                                              params  split0_test_score  \\\n",
       "0  {'max_depth': 2, 'max_leaf_nodes': 4, 'min_sam...           0.708333   \n",
       "1  {'max_depth': 2, 'max_leaf_nodes': 4, 'min_sam...           0.708333   \n",
       "2  {'max_depth': 2, 'max_leaf_nodes': 4, 'min_sam...           0.708333   \n",
       "3  {'max_depth': 2, 'max_leaf_nodes': 5, 'min_sam...           0.708333   \n",
       "4  {'max_depth': 2, 'max_leaf_nodes': 5, 'min_sam...           0.708333   \n",
       "\n",
       "   split1_test_score  split2_test_score  split3_test_score  split4_test_score  \\\n",
       "0           0.708333           0.657343           0.692308           0.692308   \n",
       "1           0.708333           0.657343           0.692308           0.692308   \n",
       "2           0.708333           0.657343           0.692308           0.692308   \n",
       "3           0.708333           0.657343           0.692308           0.692308   \n",
       "4           0.708333           0.657343           0.692308           0.692308   \n",
       "\n",
       "   mean_test_score  std_test_score  rank_test_score  \n",
       "0         0.691725        0.018625                1  \n",
       "1         0.691725        0.018625                1  \n",
       "2         0.691725        0.018625                1  \n",
       "3         0.691725        0.018625                1  \n",
       "4         0.691725        0.018625                1  "
      ]
     },
     "execution_count": 69,
     "metadata": {},
     "output_type": "execute_result"
    }
   ],
   "source": [
    "tree_cv_df = pd.DataFrame(tree_grid_search.cv_results_)\n",
    "tree_cv_df.head()"
   ]
  },
  {
   "cell_type": "markdown",
   "metadata": {},
   "source": [
    "## Random Forest"
   ]
  },
  {
   "cell_type": "code",
   "execution_count": 70,
   "metadata": {},
   "outputs": [],
   "source": [
    "forest = RandomForestClassifier()"
   ]
  },
  {
   "cell_type": "code",
   "execution_count": 71,
   "metadata": {},
   "outputs": [],
   "source": [
    "# The number of features to consider when looking for the best split\n",
    "max_features = ['sqrt', 'log2']\n",
    "\n",
    "# Minimum number of samples required to split a node\n",
    "min_samples_split = [2, 5, 10]\n",
    "\n",
    "# Minimum number of samples required at each leaf node\n",
    "min_samples_leaf = [1, 2, 4]\n",
    "\n",
    "# Create the random grid\n",
    "forrest_grid = {'max_features': max_features,\n",
    "                'min_samples_split': min_samples_split,\n",
    "               'min_samples_leaf': min_samples_leaf\n",
    "              }"
   ]
  },
  {
   "cell_type": "code",
   "execution_count": 72,
   "metadata": {},
   "outputs": [],
   "source": [
    "forrest_grid_search = GridSearchCV(estimator=forest, param_grid=forrest_grid, cv=5)"
   ]
  },
  {
   "cell_type": "code",
   "execution_count": 73,
   "metadata": {},
   "outputs": [
    {
     "data": {
      "text/plain": [
       "GridSearchCV(cv=5, estimator=RandomForestClassifier(),\n",
       "             param_grid={'max_features': ['sqrt', 'log2'],\n",
       "                         'min_samples_leaf': [1, 2, 4],\n",
       "                         'min_samples_split': [2, 5, 10]})"
      ]
     },
     "execution_count": 73,
     "metadata": {},
     "output_type": "execute_result"
    }
   ],
   "source": [
    "forrest_grid_search.fit(X_train, y_train)"
   ]
  },
  {
   "cell_type": "code",
   "execution_count": 74,
   "metadata": {},
   "outputs": [
    {
     "data": {
      "text/plain": [
       "{'max_features': 'sqrt', 'min_samples_leaf': 2, 'min_samples_split': 2}"
      ]
     },
     "execution_count": 74,
     "metadata": {},
     "output_type": "execute_result"
    }
   ],
   "source": [
    "forrest_grid_search.best_params_"
   ]
  },
  {
   "cell_type": "code",
   "execution_count": 75,
   "metadata": {},
   "outputs": [
    {
     "data": {
      "text/plain": [
       "0.7210761460761461"
      ]
     },
     "execution_count": 75,
     "metadata": {},
     "output_type": "execute_result"
    }
   ],
   "source": [
    "forrest_grid_search.best_score_"
   ]
  },
  {
   "cell_type": "code",
   "execution_count": 76,
   "metadata": {},
   "outputs": [],
   "source": [
    "best_forest = forrest_grid_search.best_estimator_"
   ]
  },
  {
   "cell_type": "code",
   "execution_count": 77,
   "metadata": {},
   "outputs": [],
   "source": [
    "forrest_test_preds = forrest_grid_search.predict(X_test)"
   ]
  },
  {
   "cell_type": "code",
   "execution_count": 78,
   "metadata": {},
   "outputs": [
    {
     "data": {
      "text/plain": [
       "<sklearn.metrics._plot.confusion_matrix.ConfusionMatrixDisplay at 0x29a377ae670>"
      ]
     },
     "execution_count": 78,
     "metadata": {},
     "output_type": "execute_result"
    },
    {
     "data": {
      "image/png": "[encoded data removed]",
      "text/plain": [
       "<Figure size 432x288 with 2 Axes>"
      ]
     },
     "metadata": {
      "needs_background": "light"
     },
     "output_type": "display_data"
    }
   ],
   "source": [
    "plot_confusion_matrix(best_forest, X_test, y_test, normalize='true', values_format = '.2f')"
   ]
  },
  {
   "cell_type": "code",
   "execution_count": 79,
   "metadata": {},
   "outputs": [
    {
     "data": {
      "text/plain": [
       "<sklearn.metrics._plot.roc_curve.RocCurveDisplay at 0x29a377c9340>"
      ]
     },
     "execution_count": 79,
     "metadata": {},
     "output_type": "execute_result"
    },
    {
     "data": {
      "image/png": "[encoded data removed]",
      "text/plain": [
       "<Figure size 432x288 with 1 Axes>"
      ]
     },
     "metadata": {
      "needs_background": "light"
     },
     "output_type": "display_data"
    }
   ],
   "source": [
    "plot_roc_curve(best_forest, X_test, y_test)"
   ]
  },
  {
   "cell_type": "code",
   "execution_count": 80,
   "metadata": {
    "scrolled": true
   },
   "outputs": [
    {
     "name": "stdout",
     "output_type": "stream",
     "text": [
      "Precision Score: 0.7525252525252525\n",
      "Recall Score: 0.8975903614457831\n",
      "Accuracy Score: 0.7238493723849372\n",
      "F1 Score: 0.8186813186813185\n"
     ]
    }
   ],
   "source": [
    "print_metrics(y_test, forrest_test_preds)"
   ]
  },
  {
   "cell_type": "markdown",
   "metadata": {},
   "source": [
    "This one has an even higher accuracy score of 72%"
   ]
  },
  {
   "cell_type": "code",
   "execution_count": 81,
   "metadata": {},
   "outputs": [],
   "source": [
    "forrest_features = list(zip(best_forest.feature_importances_, X_train.columns.values))\n",
    "forrest_features = sorted(forrest_features, key=lambda x: x[0], reverse=True)\n",
    "forrest_features_values = [x[0] for x in forrest_features][:5]\n",
    "forrest_features_names = [x[1] for x in forrest_features][:5]"
   ]
  },
  {
   "cell_type": "code",
   "execution_count": 82,
   "metadata": {},
   "outputs": [
    {
     "data": {
      "text/plain": [
       "Text(0, 0.5, 'Feature')"
      ]
     },
     "execution_count": 82,
     "metadata": {},
     "output_type": "execute_result"
    },
    {
     "data": {
      "image/png": "[encoded data removed]",
      "text/plain": [
       "<Figure size 576x576 with 1 Axes>"
      ]
     },
     "metadata": {
      "needs_background": "light"
     },
     "output_type": "display_data"
    }
   ],
   "source": [
    "plt.figure(figsize=(8,8))\n",
    "forrest_labels = ['Followers gained_y',\n",
    " 'Followers gained_x',\n",
    " 'Top Count',\n",
    " 'Stream time(minutes)_x',\n",
    " 'Watch time(Minutes)_x']\n",
    "\n",
    "plt.barh(forrest_features_names, forrest_features_values, align='center', tick_label=forrest_labels)\n",
    "plt.xlabel('Mean Decrease Accuracy', fontsize=20, labelpad=10)\n",
    "plt.ylabel('Feature', fontsize=20)"
   ]
  },
  {
   "cell_type": "code",
   "execution_count": 83,
   "metadata": {},
   "outputs": [
    {
     "data": {
      "text/html": [
       "<div>\n",
       "<style scoped>\n",
       "    .dataframe tbody tr th:only-of-type {\n",
       "        vertical-align: middle;\n",
       "    }\n",
       "\n",
       "    .dataframe tbody tr th {\n",
       "        vertical-align: top;\n",
       "    }\n",
       "\n",
       "    .dataframe thead th {\n",
       "        text-align: right;\n",
       "    }\n",
       "</style>\n",
       "<table border=\"1\" class=\"dataframe\">\n",
       "  <thead>\n",
       "    <tr style=\"text-align: right;\">\n",
       "      <th></th>\n",
       "      <th>mean_fit_time</th>\n",
       "      <th>std_fit_time</th>\n",
       "      <th>mean_score_time</th>\n",
       "      <th>std_score_time</th>\n",
       "      <th>param_max_features</th>\n",
       "      <th>param_min_samples_leaf</th>\n",
       "      <th>param_min_samples_split</th>\n",
       "      <th>params</th>\n",
       "      <th>split0_test_score</th>\n",
       "      <th>split1_test_score</th>\n",
       "      <th>split2_test_score</th>\n",
       "      <th>split3_test_score</th>\n",
       "      <th>split4_test_score</th>\n",
       "      <th>mean_test_score</th>\n",
       "      <th>std_test_score</th>\n",
       "      <th>rank_test_score</th>\n",
       "    </tr>\n",
       "  </thead>\n",
       "  <tbody>\n",
       "    <tr>\n",
       "      <th>0</th>\n",
       "      <td>0.162422</td>\n",
       "      <td>0.029346</td>\n",
       "      <td>0.009436</td>\n",
       "      <td>0.000259</td>\n",
       "      <td>sqrt</td>\n",
       "      <td>1</td>\n",
       "      <td>2</td>\n",
       "      <td>{'max_features': 'sqrt', 'min_samples_leaf': 1...</td>\n",
       "      <td>0.750000</td>\n",
       "      <td>0.687500</td>\n",
       "      <td>0.678322</td>\n",
       "      <td>0.706294</td>\n",
       "      <td>0.685315</td>\n",
       "      <td>0.701486</td>\n",
       "      <td>0.025963</td>\n",
       "      <td>15</td>\n",
       "    </tr>\n",
       "    <tr>\n",
       "      <th>1</th>\n",
       "      <td>0.145647</td>\n",
       "      <td>0.001385</td>\n",
       "      <td>0.009238</td>\n",
       "      <td>0.000191</td>\n",
       "      <td>sqrt</td>\n",
       "      <td>1</td>\n",
       "      <td>5</td>\n",
       "      <td>{'max_features': 'sqrt', 'min_samples_leaf': 1...</td>\n",
       "      <td>0.763889</td>\n",
       "      <td>0.673611</td>\n",
       "      <td>0.699301</td>\n",
       "      <td>0.699301</td>\n",
       "      <td>0.664336</td>\n",
       "      <td>0.700087</td>\n",
       "      <td>0.034788</td>\n",
       "      <td>17</td>\n",
       "    </tr>\n",
       "    <tr>\n",
       "      <th>2</th>\n",
       "      <td>0.141107</td>\n",
       "      <td>0.002003</td>\n",
       "      <td>0.009235</td>\n",
       "      <td>0.000191</td>\n",
       "      <td>sqrt</td>\n",
       "      <td>1</td>\n",
       "      <td>10</td>\n",
       "      <td>{'max_features': 'sqrt', 'min_samples_leaf': 1...</td>\n",
       "      <td>0.743056</td>\n",
       "      <td>0.673611</td>\n",
       "      <td>0.699301</td>\n",
       "      <td>0.734266</td>\n",
       "      <td>0.706294</td>\n",
       "      <td>0.711305</td>\n",
       "      <td>0.025001</td>\n",
       "      <td>8</td>\n",
       "    </tr>\n",
       "    <tr>\n",
       "      <th>3</th>\n",
       "      <td>0.141116</td>\n",
       "      <td>0.002305</td>\n",
       "      <td>0.008940</td>\n",
       "      <td>0.000240</td>\n",
       "      <td>sqrt</td>\n",
       "      <td>2</td>\n",
       "      <td>2</td>\n",
       "      <td>{'max_features': 'sqrt', 'min_samples_leaf': 2...</td>\n",
       "      <td>0.750000</td>\n",
       "      <td>0.680556</td>\n",
       "      <td>0.706294</td>\n",
       "      <td>0.741259</td>\n",
       "      <td>0.727273</td>\n",
       "      <td>0.721076</td>\n",
       "      <td>0.025071</td>\n",
       "      <td>1</td>\n",
       "    </tr>\n",
       "    <tr>\n",
       "      <th>4</th>\n",
       "      <td>0.141840</td>\n",
       "      <td>0.001456</td>\n",
       "      <td>0.009039</td>\n",
       "      <td>0.000207</td>\n",
       "      <td>sqrt</td>\n",
       "      <td>2</td>\n",
       "      <td>5</td>\n",
       "      <td>{'max_features': 'sqrt', 'min_samples_leaf': 2...</td>\n",
       "      <td>0.756944</td>\n",
       "      <td>0.673611</td>\n",
       "      <td>0.713287</td>\n",
       "      <td>0.727273</td>\n",
       "      <td>0.727273</td>\n",
       "      <td>0.719678</td>\n",
       "      <td>0.027082</td>\n",
       "      <td>2</td>\n",
       "    </tr>\n",
       "  </tbody>\n",
       "</table>\n",
       "</div>"
      ],
      "text/plain": [
       "   mean_fit_time  std_fit_time  mean_score_time  std_score_time  \\\n",
       "0       0.162422      0.029346         0.009436        0.000259   \n",
       "1       0.145647      0.001385         0.009238        0.000191   \n",
       "2       0.141107      0.002003         0.009235        0.000191   \n",
       "3       0.141116      0.002305         0.008940        0.000240   \n",
       "4       0.141840      0.001456         0.009039        0.000207   \n",
       "\n",
       "  param_max_features param_min_samples_leaf param_min_samples_split  \\\n",
       "0               sqrt                      1                       2   \n",
       "1               sqrt                      1                       5   \n",
       "2               sqrt                      1                      10   \n",
       "3               sqrt                      2                       2   \n",
       "4               sqrt                      2                       5   \n",
       "\n",
       "                                              params  split0_test_score  \\\n",
       "0  {'max_features': 'sqrt', 'min_samples_leaf': 1...           0.750000   \n",
       "1  {'max_features': 'sqrt', 'min_samples_leaf': 1...           0.763889   \n",
       "2  {'max_features': 'sqrt', 'min_samples_leaf': 1...           0.743056   \n",
       "3  {'max_features': 'sqrt', 'min_samples_leaf': 2...           0.750000   \n",
       "4  {'max_features': 'sqrt', 'min_samples_leaf': 2...           0.756944   \n",
       "\n",
       "   split1_test_score  split2_test_score  split3_test_score  split4_test_score  \\\n",
       "0           0.687500           0.678322           0.706294           0.685315   \n",
       "1           0.673611           0.699301           0.699301           0.664336   \n",
       "2           0.673611           0.699301           0.734266           0.706294   \n",
       "3           0.680556           0.706294           0.741259           0.727273   \n",
       "4           0.673611           0.713287           0.727273           0.727273   \n",
       "\n",
       "   mean_test_score  std_test_score  rank_test_score  \n",
       "0         0.701486        0.025963               15  \n",
       "1         0.700087        0.034788               17  \n",
       "2         0.711305        0.025001                8  \n",
       "3         0.721076        0.025071                1  \n",
       "4         0.719678        0.027082                2  "
      ]
     },
     "execution_count": 83,
     "metadata": {},
     "output_type": "execute_result"
    }
   ],
   "source": [
    "forest_cv_df = pd.DataFrame(forrest_grid_search.cv_results_)\n",
    "forest_cv_df.head()"
   ]
  },
  {
   "cell_type": "markdown",
   "metadata": {},
   "source": [
    "## Gradient Booster Classifier"
   ]
  },
  {
   "cell_type": "code",
   "execution_count": 84,
   "metadata": {},
   "outputs": [
    {
     "data": {
      "text/plain": [
       "GradientBoostingClassifier(learning_rate=0.05, loss='exponential',\n",
       "                           max_features='log2', random_state=42)"
      ]
     },
     "execution_count": 84,
     "metadata": {},
     "output_type": "execute_result"
    }
   ],
   "source": [
    "gbc = GradientBoostingClassifier(loss = 'exponential',learning_rate=.05,random_state = 42,\n",
    "                                max_depth=3, max_features='log2', n_estimators = 100)\n",
    "gbc.fit(X_train,y_train)"
   ]
  },
  {
   "cell_type": "code",
   "execution_count": 85,
   "metadata": {},
   "outputs": [],
   "source": [
    "gbc_preds = gbc.predict(X_test)"
   ]
  },
  {
   "cell_type": "code",
   "execution_count": 86,
   "metadata": {
    "scrolled": true
   },
   "outputs": [
    {
     "name": "stdout",
     "output_type": "stream",
     "text": [
      "Precision Score: 0.7681159420289855\n",
      "Recall Score: 0.9578313253012049\n",
      "Accuracy Score: 0.7698744769874477\n",
      "F1 Score: 0.8525469168900804\n"
     ]
    }
   ],
   "source": [
    "print_metrics(y_test, gbc_preds)"
   ]
  },
  {
   "cell_type": "markdown",
   "metadata": {},
   "source": [
    "This is the highest accuracy score yet of 76.9%\n",
    "so we'll make this our final model. Let's do some more exploratory analysis."
   ]
  },
  {
   "cell_type": "code",
   "execution_count": 87,
   "metadata": {},
   "outputs": [
    {
     "data": {
      "text/plain": [
       "<sklearn.metrics._plot.confusion_matrix.ConfusionMatrixDisplay at 0x29a35b6f9a0>"
      ]
     },
     "execution_count": 87,
     "metadata": {},
     "output_type": "execute_result"
    },
    {
     "data": {
      "image/png": "[encoded data removed]",
      "text/plain": [
       "<Figure size 432x288 with 2 Axes>"
      ]
     },
     "metadata": {
      "needs_background": "light"
     },
     "output_type": "display_data"
    }
   ],
   "source": [
    "plot_confusion_matrix(gbc, X_test, y_test, normalize='true', values_format = '.2f')"
   ]
  },
  {
   "cell_type": "code",
   "execution_count": 88,
   "metadata": {},
   "outputs": [
    {
     "data": {
      "text/plain": [
       "<sklearn.metrics._plot.roc_curve.RocCurveDisplay at 0x29a34c9da00>"
      ]
     },
     "execution_count": 88,
     "metadata": {},
     "output_type": "execute_result"
    },
    {
     "data": {
      "image/png": "[encoded data removed]",
      "text/plain": [
       "<Figure size 432x288 with 1 Axes>"
      ]
     },
     "metadata": {
      "needs_background": "light"
     },
     "output_type": "display_data"
    }
   ],
   "source": [
    "plot_roc_curve(gbc, X_test, y_test)"
   ]
  }
 ],
 "metadata": {
  "kernelspec": {
   "display_name": "Python 3",
   "language": "python",
   "name": "python3"
  },
  "language_info": {
   "codemirror_mode": {
    "name": "ipython",
    "version": 3
   },
   "file_extension": ".py",
   "mimetype": "text/x-python",
   "name": "python",
   "nbconvert_exporter": "python",
   "pygments_lexer": "ipython3",
   "version": "3.8.5"
  }
 },
 "nbformat": 4,
 "nbformat_minor": 4
}
